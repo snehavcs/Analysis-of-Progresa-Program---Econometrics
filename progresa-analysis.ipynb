{
 "cells": [
  {
   "cell_type": "markdown",
   "metadata": {
    "ein.tags": [
     "worksheet-0"
    ],
    "slideshow": {
     "slide_type": "-"
    }
   },
   "source": [
    "For this analysis, we will be using data from the [Progresa program](http://en.wikipedia.org/wiki/Oportunidades), a government social assistance program in Mexico. This program, as well as the details of its impact, are described in the paper \"[School subsidies for the poor: evaluating the Mexican Progresa poverty program](http://www.sciencedirect.com/science/article/pii/S0304387803001858)\", by Paul Shultz (available on Canvas). \n",
    "\n",
    "The goal of this problem set is to implement some of the basic econometric techniques that you are learning in class to measure the impact of Progresa on secondary school enrollment rates. The timeline of the program was:\n",
    "\n",
    " * Baseline survey conducted in 1997\n",
    " * Intervention begins in 1998, \"Wave 1\" of data collected in 1998\n",
    " * \"Wave 2 of data\" collected in 1999\n",
    " * Evaluation ends in 2000, at which point the control villages were treated. \n",
    " \n",
    "The data are actual data collected to evaluate the impact of the Progresa program.  In this file, each row corresponds to an observation taken for a given child for a given year. There are two years of data (1997 and 1998), and just under 40,000 children who are surveyed in each year. For each child-year observation, the following variables are collected:\n",
    "\n",
    "| Variable name | Description|\n",
    "|---------|---------|\n",
    "|year\t  |year in which data is collected\n",
    "|sex\t  |male = 1|\n",
    "|indig\t  |indigenous = 1|\n",
    "|dist_sec |nearest distance to a secondary school|\n",
    "|sc\t      |enrolled in school in year of survey|\n",
    "|grc      |grade enrolled|\n",
    "|fam_n    |family size|\n",
    "|min_dist |\tmin distance to an urban center|\n",
    "|dist_cap |\tmin distance to the capital|\n",
    "|poor     |\tpoor = 'pobre'|\n",
    "|progresa |treatment = 'basal'|\n",
    "|hohedu\t  |years of schooling of head of household|\n",
    "|hohwag\t  |monthly wages of head of household|\n",
    "|welfare_index|\twelfare index used to classify poor|\n",
    "|hohsex\t  |gender of head of household (male=1)|\n",
    "|hohage   |age of head of household|\n",
    "|age      |years old|\n",
    "|folnum\t  |individual id|\n",
    "|village  |\tvillage id|\n",
    "|sc97\t  |schooling in 1997|"
   ]
  },
  {
   "cell_type": "code",
   "execution_count": 755,
   "metadata": {
    "autoscroll": "json-false",
    "collapsed": false,
    "ein.tags": [
     "worksheet-0"
    ],
    "slideshow": {
     "slide_type": "-"
    }
   },
   "outputs": [
    {
     "name": "stdout",
     "output_type": "stream",
     "text": [
      "3.6.0 |Anaconda 4.3.0 (64-bit)| (default, Dec 23 2016, 11:57:41) [MSC v.1900 64 bit (AMD64)]\n"
     ]
    }
   ],
   "source": [
    "import sys; print(sys.version)\n",
    "%matplotlib inline\n",
    "import numpy as np\n",
    "import pandas as pd\n",
    "import scipy\n",
    "from scipy import stats\n",
    "import matplotlib.pyplot as plt\n",
    "from scipy.stats import ttest_ind\n",
    "from statsmodels.formula.api import ols"
   ]
  },
  {
   "cell_type": "markdown",
   "metadata": {
    "ein.tags": [
     "worksheet-0"
    ],
    "slideshow": {
     "slide_type": "-"
    }
   },
   "source": [
    "---\n",
    "##Part 1: Descriptive analysis\n",
    "\n",
    "### 1.1\tSummary Statistics\n",
    "\n",
    "a) Present number of missing observations for every single variable\n"
   ]
  },
  {
   "cell_type": "code",
   "execution_count": 756,
   "metadata": {
    "autoscroll": "json-false",
    "collapsed": false,
    "ein.tags": [
     "worksheet-0"
    ],
    "slideshow": {
     "slide_type": "-"
    }
   },
   "outputs": [
    {
     "data": {
      "text/html": [
       "<div>\n",
       "<table border=\"1\" class=\"dataframe\">\n",
       "  <thead>\n",
       "    <tr style=\"text-align: right;\">\n",
       "      <th></th>\n",
       "      <th>year</th>\n",
       "      <th>sex</th>\n",
       "      <th>indig</th>\n",
       "      <th>dist_sec</th>\n",
       "      <th>sc</th>\n",
       "      <th>grc</th>\n",
       "      <th>fam_n</th>\n",
       "      <th>min_dist</th>\n",
       "      <th>dist_cap</th>\n",
       "      <th>poor</th>\n",
       "      <th>...</th>\n",
       "      <th>hohedu</th>\n",
       "      <th>hohwag</th>\n",
       "      <th>welfare_index</th>\n",
       "      <th>hohsex</th>\n",
       "      <th>hohage</th>\n",
       "      <th>age</th>\n",
       "      <th>village</th>\n",
       "      <th>folnum</th>\n",
       "      <th>grc97</th>\n",
       "      <th>sc97</th>\n",
       "    </tr>\n",
       "  </thead>\n",
       "  <tbody>\n",
       "    <tr>\n",
       "      <th>0</th>\n",
       "      <td>97</td>\n",
       "      <td>0.000000</td>\n",
       "      <td>0.000000</td>\n",
       "      <td>4.473000</td>\n",
       "      <td>1.000000</td>\n",
       "      <td>7.000000</td>\n",
       "      <td>7</td>\n",
       "      <td>21.168384</td>\n",
       "      <td>21.168384</td>\n",
       "      <td>pobre</td>\n",
       "      <td>...</td>\n",
       "      <td>6</td>\n",
       "      <td>0.000000</td>\n",
       "      <td>583.000000</td>\n",
       "      <td>1.000000</td>\n",
       "      <td>35.000000</td>\n",
       "      <td>13</td>\n",
       "      <td>163</td>\n",
       "      <td>1</td>\n",
       "      <td>7</td>\n",
       "      <td>1.000000</td>\n",
       "    </tr>\n",
       "    <tr>\n",
       "      <th>1</th>\n",
       "      <td>98</td>\n",
       "      <td>0.000000</td>\n",
       "      <td>0.000000</td>\n",
       "      <td>4.473000</td>\n",
       "      <td>1.000000</td>\n",
       "      <td>8.000000</td>\n",
       "      <td>7</td>\n",
       "      <td>21.168384</td>\n",
       "      <td>21.168384</td>\n",
       "      <td>pobre</td>\n",
       "      <td>...</td>\n",
       "      <td>6</td>\n",
       "      <td>0.000000</td>\n",
       "      <td>583.000000</td>\n",
       "      <td>1.000000</td>\n",
       "      <td>35.000000</td>\n",
       "      <td>14</td>\n",
       "      <td>163</td>\n",
       "      <td>1</td>\n",
       "      <td>7</td>\n",
       "      <td>1.000000</td>\n",
       "    </tr>\n",
       "    <tr>\n",
       "      <th>2</th>\n",
       "      <td>97</td>\n",
       "      <td>1.000000</td>\n",
       "      <td>0.000000</td>\n",
       "      <td>4.473000</td>\n",
       "      <td>1.000000</td>\n",
       "      <td>6.000000</td>\n",
       "      <td>7</td>\n",
       "      <td>21.168384</td>\n",
       "      <td>21.168384</td>\n",
       "      <td>pobre</td>\n",
       "      <td>...</td>\n",
       "      <td>6</td>\n",
       "      <td>0.000000</td>\n",
       "      <td>583.000000</td>\n",
       "      <td>1.000000</td>\n",
       "      <td>35.000000</td>\n",
       "      <td>12</td>\n",
       "      <td>163</td>\n",
       "      <td>2</td>\n",
       "      <td>6</td>\n",
       "      <td>1.000000</td>\n",
       "    </tr>\n",
       "    <tr>\n",
       "      <th>3</th>\n",
       "      <td>98</td>\n",
       "      <td>1.000000</td>\n",
       "      <td>0.000000</td>\n",
       "      <td>4.473000</td>\n",
       "      <td>1.000000</td>\n",
       "      <td>7.000000</td>\n",
       "      <td>7</td>\n",
       "      <td>21.168384</td>\n",
       "      <td>21.168384</td>\n",
       "      <td>pobre</td>\n",
       "      <td>...</td>\n",
       "      <td>6</td>\n",
       "      <td>0.000000</td>\n",
       "      <td>583.000000</td>\n",
       "      <td>1.000000</td>\n",
       "      <td>35.000000</td>\n",
       "      <td>13</td>\n",
       "      <td>163</td>\n",
       "      <td>2</td>\n",
       "      <td>6</td>\n",
       "      <td>1.000000</td>\n",
       "    </tr>\n",
       "    <tr>\n",
       "      <th>4</th>\n",
       "      <td>97</td>\n",
       "      <td>0.000000</td>\n",
       "      <td>0.000000</td>\n",
       "      <td>4.473000</td>\n",
       "      <td>1.000000</td>\n",
       "      <td>2.000000</td>\n",
       "      <td>7</td>\n",
       "      <td>21.168384</td>\n",
       "      <td>21.168384</td>\n",
       "      <td>pobre</td>\n",
       "      <td>...</td>\n",
       "      <td>6</td>\n",
       "      <td>0.000000</td>\n",
       "      <td>583.000000</td>\n",
       "      <td>1.000000</td>\n",
       "      <td>35.000000</td>\n",
       "      <td>8</td>\n",
       "      <td>163</td>\n",
       "      <td>3</td>\n",
       "      <td>2</td>\n",
       "      <td>1.000000</td>\n",
       "    </tr>\n",
       "  </tbody>\n",
       "</table>\n",
       "<p>5 rows × 21 columns</p>\n",
       "</div>"
      ],
      "text/plain": [
       "   year      sex    indig  dist_sec       sc      grc  fam_n  min_dist  \\\n",
       "0    97 0.000000 0.000000  4.473000 1.000000 7.000000      7 21.168384   \n",
       "1    98 0.000000 0.000000  4.473000 1.000000 8.000000      7 21.168384   \n",
       "2    97 1.000000 0.000000  4.473000 1.000000 6.000000      7 21.168384   \n",
       "3    98 1.000000 0.000000  4.473000 1.000000 7.000000      7 21.168384   \n",
       "4    97 0.000000 0.000000  4.473000 1.000000 2.000000      7 21.168384   \n",
       "\n",
       "   dist_cap   poor   ...    hohedu   hohwag  welfare_index   hohsex    hohage  \\\n",
       "0 21.168384  pobre   ...         6 0.000000     583.000000 1.000000 35.000000   \n",
       "1 21.168384  pobre   ...         6 0.000000     583.000000 1.000000 35.000000   \n",
       "2 21.168384  pobre   ...         6 0.000000     583.000000 1.000000 35.000000   \n",
       "3 21.168384  pobre   ...         6 0.000000     583.000000 1.000000 35.000000   \n",
       "4 21.168384  pobre   ...         6 0.000000     583.000000 1.000000 35.000000   \n",
       "\n",
       "   age  village  folnum  grc97     sc97  \n",
       "0   13      163       1      7 1.000000  \n",
       "1   14      163       1      7 1.000000  \n",
       "2   12      163       2      6 1.000000  \n",
       "3   13      163       2      6 1.000000  \n",
       "4    8      163       3      2 1.000000  \n",
       "\n",
       "[5 rows x 21 columns]"
      ]
     },
     "execution_count": 756,
     "metadata": {},
     "output_type": "execute_result"
    }
   ],
   "source": [
    "df = pd.read_csv(\"progresa_sample.csv\")\n",
    "df.head()"
   ]
  },
  {
   "cell_type": "code",
   "execution_count": 757,
   "metadata": {
    "collapsed": false
   },
   "outputs": [
    {
     "data": {
      "text/html": [
       "<div>\n",
       "<table border=\"1\" class=\"dataframe\">\n",
       "  <thead>\n",
       "    <tr style=\"text-align: right;\">\n",
       "      <th></th>\n",
       "      <th>Variable</th>\n",
       "      <th>Count of missing values</th>\n",
       "    </tr>\n",
       "  </thead>\n",
       "  <tbody>\n",
       "    <tr>\n",
       "      <th>0</th>\n",
       "      <td>year</td>\n",
       "      <td>0</td>\n",
       "    </tr>\n",
       "    <tr>\n",
       "      <th>1</th>\n",
       "      <td>sex</td>\n",
       "      <td>24</td>\n",
       "    </tr>\n",
       "    <tr>\n",
       "      <th>2</th>\n",
       "      <td>indig</td>\n",
       "      <td>300</td>\n",
       "    </tr>\n",
       "    <tr>\n",
       "      <th>3</th>\n",
       "      <td>dist_sec</td>\n",
       "      <td>0</td>\n",
       "    </tr>\n",
       "    <tr>\n",
       "      <th>4</th>\n",
       "      <td>sc</td>\n",
       "      <td>8453</td>\n",
       "    </tr>\n",
       "    <tr>\n",
       "      <th>5</th>\n",
       "      <td>grc</td>\n",
       "      <td>6549</td>\n",
       "    </tr>\n",
       "    <tr>\n",
       "      <th>6</th>\n",
       "      <td>fam_n</td>\n",
       "      <td>0</td>\n",
       "    </tr>\n",
       "    <tr>\n",
       "      <th>7</th>\n",
       "      <td>min_dist</td>\n",
       "      <td>0</td>\n",
       "    </tr>\n",
       "    <tr>\n",
       "      <th>8</th>\n",
       "      <td>dist_cap</td>\n",
       "      <td>0</td>\n",
       "    </tr>\n",
       "    <tr>\n",
       "      <th>9</th>\n",
       "      <td>poor</td>\n",
       "      <td>0</td>\n",
       "    </tr>\n",
       "    <tr>\n",
       "      <th>10</th>\n",
       "      <td>progresa</td>\n",
       "      <td>0</td>\n",
       "    </tr>\n",
       "    <tr>\n",
       "      <th>11</th>\n",
       "      <td>hohedu</td>\n",
       "      <td>0</td>\n",
       "    </tr>\n",
       "    <tr>\n",
       "      <th>12</th>\n",
       "      <td>hohwag</td>\n",
       "      <td>0</td>\n",
       "    </tr>\n",
       "    <tr>\n",
       "      <th>13</th>\n",
       "      <td>welfare_index</td>\n",
       "      <td>210</td>\n",
       "    </tr>\n",
       "    <tr>\n",
       "      <th>14</th>\n",
       "      <td>hohsex</td>\n",
       "      <td>20</td>\n",
       "    </tr>\n",
       "    <tr>\n",
       "      <th>15</th>\n",
       "      <td>hohage</td>\n",
       "      <td>10</td>\n",
       "    </tr>\n",
       "    <tr>\n",
       "      <th>16</th>\n",
       "      <td>age</td>\n",
       "      <td>0</td>\n",
       "    </tr>\n",
       "    <tr>\n",
       "      <th>17</th>\n",
       "      <td>village</td>\n",
       "      <td>0</td>\n",
       "    </tr>\n",
       "    <tr>\n",
       "      <th>18</th>\n",
       "      <td>folnum</td>\n",
       "      <td>0</td>\n",
       "    </tr>\n",
       "    <tr>\n",
       "      <th>19</th>\n",
       "      <td>grc97</td>\n",
       "      <td>0</td>\n",
       "    </tr>\n",
       "    <tr>\n",
       "      <th>20</th>\n",
       "      <td>sc97</td>\n",
       "      <td>3872</td>\n",
       "    </tr>\n",
       "  </tbody>\n",
       "</table>\n",
       "</div>"
      ],
      "text/plain": [
       "         Variable  Count of missing values\n",
       "0            year                        0\n",
       "1             sex                       24\n",
       "2           indig                      300\n",
       "3        dist_sec                        0\n",
       "4              sc                     8453\n",
       "5             grc                     6549\n",
       "6           fam_n                        0\n",
       "7        min_dist                        0\n",
       "8        dist_cap                        0\n",
       "9            poor                        0\n",
       "10       progresa                        0\n",
       "11         hohedu                        0\n",
       "12         hohwag                        0\n",
       "13  welfare_index                      210\n",
       "14         hohsex                       20\n",
       "15         hohage                       10\n",
       "16            age                        0\n",
       "17        village                        0\n",
       "18         folnum                        0\n",
       "19          grc97                        0\n",
       "20           sc97                     3872"
      ]
     },
     "execution_count": 757,
     "metadata": {},
     "output_type": "execute_result"
    }
   ],
   "source": [
    "df_countnull = df.isnull().sum()\n",
    "type(df_countnull)\n",
    "df_countnull = pd.DataFrame({'Variable':df_countnull.index, 'Count of missing values':df_countnull.values})\n",
    "df_countnull[['Variable','Count of missing values']]"
   ]
  },
  {
   "cell_type": "markdown",
   "metadata": {
    "ein.tags": [
     "worksheet-0"
    ],
    "slideshow": {
     "slide_type": "-"
    }
   },
   "source": [
    "b) Present summary statistics (mean and standard deviation) for all of the demographic variables in the dataset (i.e., everything except year, folnum, village). "
   ]
  },
  {
   "cell_type": "code",
   "execution_count": 758,
   "metadata": {
    "autoscroll": "json-false",
    "collapsed": false,
    "ein.tags": [
     "worksheet-0"
    ],
    "slideshow": {
     "slide_type": "-"
    }
   },
   "outputs": [
    {
     "data": {
      "text/html": [
       "<div>\n",
       "<table border=\"1\" class=\"dataframe\">\n",
       "  <thead>\n",
       "    <tr style=\"text-align: right;\">\n",
       "      <th></th>\n",
       "      <th>age</th>\n",
       "      <th>dist_cap</th>\n",
       "      <th>dist_sec</th>\n",
       "      <th>fam_n</th>\n",
       "      <th>grc</th>\n",
       "      <th>grc97</th>\n",
       "      <th>hohage</th>\n",
       "      <th>hohedu</th>\n",
       "      <th>hohsex</th>\n",
       "      <th>hohwag</th>\n",
       "      <th>indig</th>\n",
       "      <th>min_dist</th>\n",
       "      <th>sc</th>\n",
       "      <th>sc97</th>\n",
       "      <th>sex</th>\n",
       "      <th>welfare_index</th>\n",
       "    </tr>\n",
       "  </thead>\n",
       "  <tbody>\n",
       "    <tr>\n",
       "      <th>mean</th>\n",
       "      <td>11.366460</td>\n",
       "      <td>147.674452</td>\n",
       "      <td>2.418910</td>\n",
       "      <td>7.215715</td>\n",
       "      <td>3.963537</td>\n",
       "      <td>3.705372</td>\n",
       "      <td>44.436717</td>\n",
       "      <td>2.768104</td>\n",
       "      <td>0.925185</td>\n",
       "      <td>586.985312</td>\n",
       "      <td>0.298324</td>\n",
       "      <td>103.447520</td>\n",
       "      <td>0.819818</td>\n",
       "      <td>0.813922</td>\n",
       "      <td>0.512211</td>\n",
       "      <td>690.346564</td>\n",
       "    </tr>\n",
       "    <tr>\n",
       "      <th>std</th>\n",
       "      <td>3.167744</td>\n",
       "      <td>76.063134</td>\n",
       "      <td>2.234109</td>\n",
       "      <td>2.352900</td>\n",
       "      <td>2.499063</td>\n",
       "      <td>2.572387</td>\n",
       "      <td>11.620372</td>\n",
       "      <td>2.656106</td>\n",
       "      <td>0.263095</td>\n",
       "      <td>788.133664</td>\n",
       "      <td>0.457525</td>\n",
       "      <td>42.089441</td>\n",
       "      <td>0.384342</td>\n",
       "      <td>0.389172</td>\n",
       "      <td>0.499854</td>\n",
       "      <td>139.491130</td>\n",
       "    </tr>\n",
       "  </tbody>\n",
       "</table>\n",
       "</div>"
      ],
      "text/plain": [
       "           age   dist_cap  dist_sec    fam_n      grc    grc97    hohage  \\\n",
       "mean 11.366460 147.674452  2.418910 7.215715 3.963537 3.705372 44.436717   \n",
       "std   3.167744  76.063134  2.234109 2.352900 2.499063 2.572387 11.620372   \n",
       "\n",
       "       hohedu   hohsex     hohwag    indig   min_dist       sc     sc97  \\\n",
       "mean 2.768104 0.925185 586.985312 0.298324 103.447520 0.819818 0.813922   \n",
       "std  2.656106 0.263095 788.133664 0.457525  42.089441 0.384342 0.389172   \n",
       "\n",
       "          sex  welfare_index  \n",
       "mean 0.512211     690.346564  \n",
       "std  0.499854     139.491130  "
      ]
     },
     "execution_count": 758,
     "metadata": {},
     "output_type": "execute_result"
    }
   ],
   "source": [
    "df_new = df[df.columns.difference(['year','folnum','village'])]\n",
    "result = df_new.describe()\n",
    "result.ix[['mean','std']]"
   ]
  },
  {
   "cell_type": "markdown",
   "metadata": {
    "ein.tags": [
     "worksheet-0"
    ],
    "slideshow": {
     "slide_type": "-"
    }
   },
   "source": [
    "### 1.2 Differences at baseline?\n",
    "\n",
    "Are the baseline (1997) demographic characteristics **for the poor**  different in treatment and control villages? Hint: Use a T-Test to determine whether there is a statistically significant difference in the average values of each of the variables in the dataset. Focus only on the data from 1997 for individuals who are poor (i.e., poor=='pobre')."
   ]
  },
  {
   "cell_type": "code",
   "execution_count": 759,
   "metadata": {
    "autoscroll": "json-false",
    "collapsed": false,
    "ein.tags": [
     "worksheet-0"
    ],
    "slideshow": {
     "slide_type": "-"
    }
   },
   "outputs": [],
   "source": [
    "df_poor = df.loc[(df.year == 97) & (df.poor == 'pobre')]"
   ]
  },
  {
   "cell_type": "code",
   "execution_count": 760,
   "metadata": {
    "collapsed": false,
    "scrolled": true
   },
   "outputs": [],
   "source": [
    "treatment = df_poor.loc[df_poor.progresa=='basal']\n",
    "control = df_poor.loc[df_poor.progresa=='0']"
   ]
  },
  {
   "cell_type": "code",
   "execution_count": 761,
   "metadata": {
    "collapsed": false
   },
   "outputs": [],
   "source": [
    "treatment = treatment[treatment.columns.difference(['year','folnum','village'])]\n",
    "control = control[control.columns.difference(['year','folnum','village'])]\n",
    "\n",
    "desc1 = treatment.describe()\n",
    "t_mean = desc1.loc['mean']\n",
    "\n",
    "df1 = pd.DataFrame({'Variable name':t_mean.index, 'Average value (Treatment villages)':t_mean.values},\n",
    "                        columns = ['Variable name','Average value (Treatment villages)'])\n",
    "\n",
    "desc2 = control.describe()\n",
    "c_mean = desc2.loc['mean']\n",
    "\n",
    "df2 = pd.DataFrame({'Variable name':c_mean.index,'Average value (Control villages)':c_mean.values},\n",
    "                      columns = ['Variable name','Average value (Control villages)'])\n",
    "result_df=pd.merge(df1,df2, on = 'Variable name')"
   ]
  },
  {
   "cell_type": "code",
   "execution_count": 762,
   "metadata": {
    "collapsed": false
   },
   "outputs": [],
   "source": [
    "#treatment = treatment.fillna(0)\n",
    "#control = control.fillna(0)\n",
    "\n",
    "# Calculating p-value for continuous variable\n",
    "\n",
    "#Saving p-value in a dict\n",
    "p = {}\n",
    "\n",
    "#Age\n",
    "p = {'age': ttest_ind(treatment.age,control.age,nan_policy='omit').pvalue}\n",
    "#dist_sec\n",
    "p.update({'dist_sec': ttest_ind(treatment.dist_sec,control.dist_sec,nan_policy='omit').pvalue})\n",
    "#grc\n",
    "p.update({'grc': ttest_ind(treatment.grc,control.grc,nan_policy='omit').pvalue})\n",
    "#min_dist\n",
    "p.update({'min_dist': ttest_ind(treatment.min_dist,control.min_dist,nan_policy='omit').pvalue})\n",
    "#fam_n\n",
    "p.update({'fam_n': ttest_ind(treatment.fam_n,control.fam_n,nan_policy='omit').pvalue})\n",
    "#dist_cap\n",
    "p.update({'dist_cap': ttest_ind(treatment.dist_cap,control.dist_cap,nan_policy='omit').pvalue})\n",
    "#hohedu\n",
    "p.update({'hohedu': ttest_ind(treatment.hohedu,control.hohedu,nan_policy='omit').pvalue})\n",
    "#hohwag\n",
    "p.update({'hohwag': ttest_ind(treatment.hohwag,control.hohwag,nan_policy='omit').pvalue})\n",
    "#hohage\n",
    "p.update({'hohage': ttest_ind(treatment.hohage,control.hohage,nan_policy='omit').pvalue})\n",
    "#grc97\n",
    "p.update({'grc97': ttest_ind(treatment.grc97,control.grc97,nan_policy='omit').pvalue})\n",
    "#indig\n",
    "p.update({'indig': ttest_ind(treatment.indig,control.indig,nan_policy='omit').pvalue})\n",
    "#hohsex\n",
    "p.update({'hohsex': ttest_ind(treatment.hohsex,control.hohsex,nan_policy='omit').pvalue})\n",
    "#sc\n",
    "p.update({'sc': ttest_ind(treatment.sc,control.sc,nan_policy='omit').pvalue})\n",
    "#sc97\n",
    "p.update({'sc97': ttest_ind(treatment.sc97,control.sc97,nan_policy='omit').pvalue})\n",
    "#sex\n",
    "p.update({'sex': ttest_ind(treatment.sex,control.sex,nan_policy='omit').pvalue})\n",
    "#welfare_index\n",
    "p.update({'welfare_index': ttest_ind(treatment.welfare_index,control.welfare_index,nan_policy='omit').pvalue})\n",
    "\n",
    "df3 = pd.DataFrame(list(p.items()),\n",
    "                  columns = ['Variable name','p-value'])"
   ]
  },
  {
   "cell_type": "code",
   "execution_count": 763,
   "metadata": {
    "collapsed": false
   },
   "outputs": [],
   "source": [
    "# Calculating p-value for continuous variable\n",
    "\n",
    "#Saving p-value in a dict\n",
    "p = {}\n",
    "\n",
    "#Age\n",
    "p = {'age': ttest_ind(treatment.age,control.age,nan_policy='omit').statistic}\n",
    "#dist_sec\n",
    "p.update({'dist_sec': ttest_ind(treatment.dist_sec,control.dist_sec,nan_policy='omit').statistic})\n",
    "#grc\n",
    "p.update({'grc': ttest_ind(treatment.grc,control.grc,nan_policy='omit').statistic})\n",
    "#min_dist\n",
    "p.update({'min_dist': ttest_ind(treatment.min_dist,control.min_dist,nan_policy='omit').statistic})\n",
    "#fam_n\n",
    "p.update({'fam_n': ttest_ind(treatment.fam_n,control.fam_n,nan_policy='omit').statistic})\n",
    "#dist_cap\n",
    "p.update({'dist_cap': ttest_ind(treatment.dist_cap,control.dist_cap,nan_policy='omit').statistic})\n",
    "#hohedu\n",
    "p.update({'hohedu': ttest_ind(treatment.hohedu,control.hohedu,nan_policy='omit').statistic})\n",
    "#hohwag\n",
    "p.update({'hohwag': ttest_ind(treatment.hohwag,control.hohwag,nan_policy='omit').statistic})\n",
    "#welfare_index\n",
    "p.update({'welfare_index': ttest_ind(treatment.welfare_index,control.welfare_index,nan_policy='omit').statistic})\n",
    "#hohage\n",
    "p.update({'hohage': ttest_ind(treatment.hohage,control.hohage,nan_policy='omit').statistic})\n",
    "#grc97\n",
    "p.update({'grc97': ttest_ind(treatment.grc97,control.grc97,nan_policy='omit').statistic})\n",
    "#indig\n",
    "p.update({'indig': ttest_ind(treatment.indig,control.indig,nan_policy='omit').statistic})\n",
    "#hohsex\n",
    "p.update({'hohsex': ttest_ind(treatment.hohsex,control.hohsex,nan_policy='omit').statistic})\n",
    "#sc\n",
    "p.update({'sc': ttest_ind(treatment.sc,control.sc,nan_policy='omit').statistic})\n",
    "#sc97\n",
    "p.update({'sc97': ttest_ind(treatment.sc97,control.sc97,nan_policy='omit').statistic})\n",
    "#sex\n",
    "p.update({'sex': ttest_ind(treatment.sex,control.sex,nan_policy='omit').statistic})\n",
    "#welfare_index\n",
    "p.update({'welfare_index': ttest_ind(treatment.welfare_index,control.welfare_index,nan_policy='omit').statistic})\n",
    "\n",
    "df4 = pd.DataFrame(list(p.items()),\n",
    "                  columns = ['Variable name','Difference(Treat - Control)'])"
   ]
  },
  {
   "cell_type": "code",
   "execution_count": 764,
   "metadata": {
    "collapsed": false
   },
   "outputs": [
    {
     "data": {
      "text/html": [
       "<div>\n",
       "<table border=\"1\" class=\"dataframe\">\n",
       "  <thead>\n",
       "    <tr style=\"text-align: right;\">\n",
       "      <th></th>\n",
       "      <th>Variable name</th>\n",
       "      <th>Average value (Treatment villages)</th>\n",
       "      <th>Average value (Control villages)</th>\n",
       "      <th>p-value</th>\n",
       "      <th>Difference(Treat - Control)</th>\n",
       "    </tr>\n",
       "  </thead>\n",
       "  <tbody>\n",
       "    <tr>\n",
       "      <th>0</th>\n",
       "      <td>age</td>\n",
       "      <td>10.716991</td>\n",
       "      <td>10.742023</td>\n",
       "      <td>0.478559</td>\n",
       "      <td>-0.708630</td>\n",
       "    </tr>\n",
       "    <tr>\n",
       "      <th>1</th>\n",
       "      <td>dist_cap</td>\n",
       "      <td>150.829074</td>\n",
       "      <td>153.769730</td>\n",
       "      <td>0.000842</td>\n",
       "      <td>-3.339081</td>\n",
       "    </tr>\n",
       "    <tr>\n",
       "      <th>2</th>\n",
       "      <td>dist_sec</td>\n",
       "      <td>2.453122</td>\n",
       "      <td>2.507662</td>\n",
       "      <td>0.035698</td>\n",
       "      <td>-2.100433</td>\n",
       "    </tr>\n",
       "    <tr>\n",
       "      <th>3</th>\n",
       "      <td>fam_n</td>\n",
       "      <td>7.281327</td>\n",
       "      <td>7.302469</td>\n",
       "      <td>0.427104</td>\n",
       "      <td>-0.794167</td>\n",
       "    </tr>\n",
       "    <tr>\n",
       "      <th>4</th>\n",
       "      <td>grc</td>\n",
       "      <td>3.531599</td>\n",
       "      <td>3.543050</td>\n",
       "      <td>0.689015</td>\n",
       "      <td>-0.400196</td>\n",
       "    </tr>\n",
       "    <tr>\n",
       "      <th>5</th>\n",
       "      <td>grc97</td>\n",
       "      <td>3.531599</td>\n",
       "      <td>3.543050</td>\n",
       "      <td>0.689015</td>\n",
       "      <td>-0.400196</td>\n",
       "    </tr>\n",
       "    <tr>\n",
       "      <th>6</th>\n",
       "      <td>hohage</td>\n",
       "      <td>43.648828</td>\n",
       "      <td>44.276918</td>\n",
       "      <td>0.000002</td>\n",
       "      <td>-4.775962</td>\n",
       "    </tr>\n",
       "    <tr>\n",
       "      <th>7</th>\n",
       "      <td>hohedu</td>\n",
       "      <td>2.663139</td>\n",
       "      <td>2.590348</td>\n",
       "      <td>0.011051</td>\n",
       "      <td>2.541229</td>\n",
       "    </tr>\n",
       "    <tr>\n",
       "      <th>8</th>\n",
       "      <td>hohsex</td>\n",
       "      <td>0.924656</td>\n",
       "      <td>0.922947</td>\n",
       "      <td>0.571186</td>\n",
       "      <td>0.566312</td>\n",
       "    </tr>\n",
       "    <tr>\n",
       "      <th>9</th>\n",
       "      <td>hohwag</td>\n",
       "      <td>544.339544</td>\n",
       "      <td>573.163558</td>\n",
       "      <td>0.000325</td>\n",
       "      <td>-3.594588</td>\n",
       "    </tr>\n",
       "    <tr>\n",
       "      <th>10</th>\n",
       "      <td>indig</td>\n",
       "      <td>0.325986</td>\n",
       "      <td>0.332207</td>\n",
       "      <td>0.245360</td>\n",
       "      <td>-1.161714</td>\n",
       "    </tr>\n",
       "    <tr>\n",
       "      <th>11</th>\n",
       "      <td>min_dist</td>\n",
       "      <td>107.152915</td>\n",
       "      <td>103.237854</td>\n",
       "      <td>0.000000</td>\n",
       "      <td>8.206584</td>\n",
       "    </tr>\n",
       "    <tr>\n",
       "      <th>12</th>\n",
       "      <td>sc</td>\n",
       "      <td>0.822697</td>\n",
       "      <td>0.815186</td>\n",
       "      <td>0.095178</td>\n",
       "      <td>1.668745</td>\n",
       "    </tr>\n",
       "    <tr>\n",
       "      <th>13</th>\n",
       "      <td>sc97</td>\n",
       "      <td>0.822697</td>\n",
       "      <td>0.815186</td>\n",
       "      <td>0.095178</td>\n",
       "      <td>1.668745</td>\n",
       "    </tr>\n",
       "    <tr>\n",
       "      <th>14</th>\n",
       "      <td>sex</td>\n",
       "      <td>0.519317</td>\n",
       "      <td>0.505052</td>\n",
       "      <td>0.012192</td>\n",
       "      <td>2.506686</td>\n",
       "    </tr>\n",
       "    <tr>\n",
       "      <th>15</th>\n",
       "      <td>welfare_index</td>\n",
       "      <td>655.428377</td>\n",
       "      <td>659.579100</td>\n",
       "      <td>0.001431</td>\n",
       "      <td>-3.188594</td>\n",
       "    </tr>\n",
       "  </tbody>\n",
       "</table>\n",
       "</div>"
      ],
      "text/plain": [
       "    Variable name  Average value (Treatment villages)  \\\n",
       "0             age                           10.716991   \n",
       "1        dist_cap                          150.829074   \n",
       "2        dist_sec                            2.453122   \n",
       "3           fam_n                            7.281327   \n",
       "4             grc                            3.531599   \n",
       "5           grc97                            3.531599   \n",
       "6          hohage                           43.648828   \n",
       "7          hohedu                            2.663139   \n",
       "8          hohsex                            0.924656   \n",
       "9          hohwag                          544.339544   \n",
       "10          indig                            0.325986   \n",
       "11       min_dist                          107.152915   \n",
       "12             sc                            0.822697   \n",
       "13           sc97                            0.822697   \n",
       "14            sex                            0.519317   \n",
       "15  welfare_index                          655.428377   \n",
       "\n",
       "    Average value (Control villages)  p-value  Difference(Treat - Control)  \n",
       "0                          10.742023 0.478559                    -0.708630  \n",
       "1                         153.769730 0.000842                    -3.339081  \n",
       "2                           2.507662 0.035698                    -2.100433  \n",
       "3                           7.302469 0.427104                    -0.794167  \n",
       "4                           3.543050 0.689015                    -0.400196  \n",
       "5                           3.543050 0.689015                    -0.400196  \n",
       "6                          44.276918 0.000002                    -4.775962  \n",
       "7                           2.590348 0.011051                     2.541229  \n",
       "8                           0.922947 0.571186                     0.566312  \n",
       "9                         573.163558 0.000325                    -3.594588  \n",
       "10                          0.332207 0.245360                    -1.161714  \n",
       "11                        103.237854 0.000000                     8.206584  \n",
       "12                          0.815186 0.095178                     1.668745  \n",
       "13                          0.815186 0.095178                     1.668745  \n",
       "14                          0.505052 0.012192                     2.506686  \n",
       "15                        659.579100 0.001431                    -3.188594  "
      ]
     },
     "execution_count": 764,
     "metadata": {},
     "output_type": "execute_result"
    }
   ],
   "source": [
    "pd.options.display.float_format = '{:,.6f}'.format\n",
    "diff_df = result_df.merge(df3,on='Variable name').merge(df4,on='Variable name')\n",
    "diff_df"
   ]
  },
  {
   "cell_type": "markdown",
   "metadata": {
    "ein.tags": [
     "worksheet-0"
    ],
    "slideshow": {
     "slide_type": "-"
    }
   },
   "source": [
    "### 1.3 Interpretation\n",
    "\n",
    "* A: Are there statistically significant differences between treatment and control villages as baseline? \n",
    "* B: Why does it matter if there are differences at baseline?\n",
    "* C: What does this imply about how to measure the impact of the treatment?"
   ]
  },
  {
   "cell_type": "code",
   "execution_count": 765,
   "metadata": {
    "autoscroll": "json-false",
    "collapsed": false,
    "ein.tags": [
     "worksheet-0"
    ],
    "slideshow": {
     "slide_type": "-"
    }
   },
   "outputs": [
    {
     "data": {
      "text/html": [
       "<div>\n",
       "<table border=\"1\" class=\"dataframe\">\n",
       "  <thead>\n",
       "    <tr style=\"text-align: right;\">\n",
       "      <th></th>\n",
       "      <th>Variable name</th>\n",
       "      <th>Average value (Treatment villages)</th>\n",
       "      <th>Average value (Control villages)</th>\n",
       "      <th>p-value</th>\n",
       "      <th>Difference(Treat - Control)</th>\n",
       "      <th>Is Significant</th>\n",
       "    </tr>\n",
       "  </thead>\n",
       "  <tbody>\n",
       "    <tr>\n",
       "      <th>1</th>\n",
       "      <td>dist_cap</td>\n",
       "      <td>150.829074</td>\n",
       "      <td>153.769730</td>\n",
       "      <td>0.000842</td>\n",
       "      <td>-3.339081</td>\n",
       "      <td>Yes</td>\n",
       "    </tr>\n",
       "    <tr>\n",
       "      <th>2</th>\n",
       "      <td>dist_sec</td>\n",
       "      <td>2.453122</td>\n",
       "      <td>2.507662</td>\n",
       "      <td>0.035698</td>\n",
       "      <td>-2.100433</td>\n",
       "      <td>Yes</td>\n",
       "    </tr>\n",
       "    <tr>\n",
       "      <th>6</th>\n",
       "      <td>hohage</td>\n",
       "      <td>43.648828</td>\n",
       "      <td>44.276918</td>\n",
       "      <td>0.000002</td>\n",
       "      <td>-4.775962</td>\n",
       "      <td>Yes</td>\n",
       "    </tr>\n",
       "    <tr>\n",
       "      <th>7</th>\n",
       "      <td>hohedu</td>\n",
       "      <td>2.663139</td>\n",
       "      <td>2.590348</td>\n",
       "      <td>0.011051</td>\n",
       "      <td>2.541229</td>\n",
       "      <td>Yes</td>\n",
       "    </tr>\n",
       "    <tr>\n",
       "      <th>9</th>\n",
       "      <td>hohwag</td>\n",
       "      <td>544.339544</td>\n",
       "      <td>573.163558</td>\n",
       "      <td>0.000325</td>\n",
       "      <td>-3.594588</td>\n",
       "      <td>Yes</td>\n",
       "    </tr>\n",
       "    <tr>\n",
       "      <th>11</th>\n",
       "      <td>min_dist</td>\n",
       "      <td>107.152915</td>\n",
       "      <td>103.237854</td>\n",
       "      <td>0.000000</td>\n",
       "      <td>8.206584</td>\n",
       "      <td>Yes</td>\n",
       "    </tr>\n",
       "    <tr>\n",
       "      <th>14</th>\n",
       "      <td>sex</td>\n",
       "      <td>0.519317</td>\n",
       "      <td>0.505052</td>\n",
       "      <td>0.012192</td>\n",
       "      <td>2.506686</td>\n",
       "      <td>Yes</td>\n",
       "    </tr>\n",
       "    <tr>\n",
       "      <th>15</th>\n",
       "      <td>welfare_index</td>\n",
       "      <td>655.428377</td>\n",
       "      <td>659.579100</td>\n",
       "      <td>0.001431</td>\n",
       "      <td>-3.188594</td>\n",
       "      <td>Yes</td>\n",
       "    </tr>\n",
       "  </tbody>\n",
       "</table>\n",
       "</div>"
      ],
      "text/plain": [
       "    Variable name  Average value (Treatment villages)  \\\n",
       "1        dist_cap                          150.829074   \n",
       "2        dist_sec                            2.453122   \n",
       "6          hohage                           43.648828   \n",
       "7          hohedu                            2.663139   \n",
       "9          hohwag                          544.339544   \n",
       "11       min_dist                          107.152915   \n",
       "14            sex                            0.519317   \n",
       "15  welfare_index                          655.428377   \n",
       "\n",
       "    Average value (Control villages)  p-value  Difference(Treat - Control)  \\\n",
       "1                         153.769730 0.000842                    -3.339081   \n",
       "2                           2.507662 0.035698                    -2.100433   \n",
       "6                          44.276918 0.000002                    -4.775962   \n",
       "7                           2.590348 0.011051                     2.541229   \n",
       "9                         573.163558 0.000325                    -3.594588   \n",
       "11                        103.237854 0.000000                     8.206584   \n",
       "14                          0.505052 0.012192                     2.506686   \n",
       "15                        659.579100 0.001431                    -3.188594   \n",
       "\n",
       "   Is Significant  \n",
       "1             Yes  \n",
       "2             Yes  \n",
       "6             Yes  \n",
       "7             Yes  \n",
       "9             Yes  \n",
       "11            Yes  \n",
       "14            Yes  \n",
       "15            Yes  "
      ]
     },
     "execution_count": 765,
     "metadata": {},
     "output_type": "execute_result"
    }
   ],
   "source": [
    "diff_df['Is Significant'] = np.where(diff_df['p-value']< 0.05, 'Yes', 'No')\n",
    "diff_significant = diff_df[diff_df['Is Significant'] == 'Yes']\n",
    "diff_significant"
   ]
  },
  {
   "cell_type": "markdown",
   "metadata": {},
   "source": [
    "A: Are there statistically significant differences between treatment and control villages as baseline?\n",
    "\n",
    "Considering statistical significance is based on p-value, we identify variables which have p-value < 0.05 to be statistically significant. Thus from the table, we can say that dist_cap, dist_sec, hohage, hohedu, hohwag, min_dist, sex & welfare_index variables were significantly different at the baseline.\n",
    "\n",
    "B: Why does it matter if there are differences at baseline?\n",
    "\n",
    "In order to understand the actual effect of the treatment, we need to have a same baseline between the treatment & control groups. If the baseline is different, then the sample is not fully randomized and might impact the results of the study.\n",
    "\n",
    "C: What does this imply about how to measure the impact of the treatment?\n",
    "\n",
    "Since there is a difference between some of the variables in treatment & control group, exact impact of the treatment cannot be measured."
   ]
  },
  {
   "cell_type": "markdown",
   "metadata": {
    "ein.tags": [
     "worksheet-0"
    ],
    "slideshow": {
     "slide_type": "-"
    }
   },
   "source": [
    "### 1.4 Graphical exploration, part 1\n",
    "\n",
    "For each level of household head education, compute the average enrollment rate in 1997. Create a scatterplot that shows this relationship. What do you notice?"
   ]
  },
  {
   "cell_type": "code",
   "execution_count": 766,
   "metadata": {
    "autoscroll": "json-false",
    "collapsed": false,
    "ein.tags": [
     "worksheet-0"
    ],
    "scrolled": true,
    "slideshow": {
     "slide_type": "-"
    }
   },
   "outputs": [
    {
     "data": {
      "text/html": [
       "<div>\n",
       "<table border=\"1\" class=\"dataframe\">\n",
       "  <thead>\n",
       "    <tr style=\"text-align: right;\">\n",
       "      <th></th>\n",
       "      <th>EducationLevelOfHead</th>\n",
       "      <th>CountNotEnrolled</th>\n",
       "      <th>CountEnrolled</th>\n",
       "      <th>Enrollment Rate</th>\n",
       "    </tr>\n",
       "  </thead>\n",
       "  <tbody>\n",
       "    <tr>\n",
       "      <th>0</th>\n",
       "      <td>0</td>\n",
       "      <td>2,229.000000</td>\n",
       "      <td>7,728.000000</td>\n",
       "      <td>0.776137</td>\n",
       "    </tr>\n",
       "    <tr>\n",
       "      <th>1</th>\n",
       "      <td>1</td>\n",
       "      <td>590.000000</td>\n",
       "      <td>1,959.000000</td>\n",
       "      <td>0.768537</td>\n",
       "    </tr>\n",
       "    <tr>\n",
       "      <th>2</th>\n",
       "      <td>2</td>\n",
       "      <td>1,154.000000</td>\n",
       "      <td>4,463.000000</td>\n",
       "      <td>0.794552</td>\n",
       "    </tr>\n",
       "    <tr>\n",
       "      <th>3</th>\n",
       "      <td>3</td>\n",
       "      <td>1,453.000000</td>\n",
       "      <td>5,921.000000</td>\n",
       "      <td>0.802956</td>\n",
       "    </tr>\n",
       "    <tr>\n",
       "      <th>4</th>\n",
       "      <td>4</td>\n",
       "      <td>430.000000</td>\n",
       "      <td>2,308.000000</td>\n",
       "      <td>0.842951</td>\n",
       "    </tr>\n",
       "    <tr>\n",
       "      <th>5</th>\n",
       "      <td>5</td>\n",
       "      <td>182.000000</td>\n",
       "      <td>1,030.000000</td>\n",
       "      <td>0.849835</td>\n",
       "    </tr>\n",
       "    <tr>\n",
       "      <th>6</th>\n",
       "      <td>6</td>\n",
       "      <td>635.000000</td>\n",
       "      <td>4,590.000000</td>\n",
       "      <td>0.878469</td>\n",
       "    </tr>\n",
       "    <tr>\n",
       "      <th>7</th>\n",
       "      <td>7</td>\n",
       "      <td>19.000000</td>\n",
       "      <td>153.000000</td>\n",
       "      <td>0.889535</td>\n",
       "    </tr>\n",
       "    <tr>\n",
       "      <th>8</th>\n",
       "      <td>8</td>\n",
       "      <td>29.000000</td>\n",
       "      <td>261.000000</td>\n",
       "      <td>0.900000</td>\n",
       "    </tr>\n",
       "    <tr>\n",
       "      <th>9</th>\n",
       "      <td>9</td>\n",
       "      <td>80.000000</td>\n",
       "      <td>987.000000</td>\n",
       "      <td>0.925023</td>\n",
       "    </tr>\n",
       "    <tr>\n",
       "      <th>10</th>\n",
       "      <td>10</td>\n",
       "      <td>7.000000</td>\n",
       "      <td>45.000000</td>\n",
       "      <td>0.865385</td>\n",
       "    </tr>\n",
       "    <tr>\n",
       "      <th>11</th>\n",
       "      <td>11</td>\n",
       "      <td>1.000000</td>\n",
       "      <td>38.000000</td>\n",
       "      <td>0.974359</td>\n",
       "    </tr>\n",
       "    <tr>\n",
       "      <th>12</th>\n",
       "      <td>12</td>\n",
       "      <td>3.000000</td>\n",
       "      <td>173.000000</td>\n",
       "      <td>0.982955</td>\n",
       "    </tr>\n",
       "    <tr>\n",
       "      <th>13</th>\n",
       "      <td>13</td>\n",
       "      <td>3.000000</td>\n",
       "      <td>71.000000</td>\n",
       "      <td>0.959459</td>\n",
       "    </tr>\n",
       "    <tr>\n",
       "      <th>14</th>\n",
       "      <td>14</td>\n",
       "      <td>5.000000</td>\n",
       "      <td>37.000000</td>\n",
       "      <td>0.880952</td>\n",
       "    </tr>\n",
       "    <tr>\n",
       "      <th>15</th>\n",
       "      <td>15</td>\n",
       "      <td>3.000000</td>\n",
       "      <td>27.000000</td>\n",
       "      <td>0.900000</td>\n",
       "    </tr>\n",
       "    <tr>\n",
       "      <th>16</th>\n",
       "      <td>16</td>\n",
       "      <td>2.000000</td>\n",
       "      <td>32.000000</td>\n",
       "      <td>0.941176</td>\n",
       "    </tr>\n",
       "    <tr>\n",
       "      <th>17</th>\n",
       "      <td>17</td>\n",
       "      <td>1.000000</td>\n",
       "      <td>14.000000</td>\n",
       "      <td>0.933333</td>\n",
       "    </tr>\n",
       "    <tr>\n",
       "      <th>18</th>\n",
       "      <td>18</td>\n",
       "      <td>0.000000</td>\n",
       "      <td>24.000000</td>\n",
       "      <td>1.000000</td>\n",
       "    </tr>\n",
       "    <tr>\n",
       "      <th>19</th>\n",
       "      <td>20</td>\n",
       "      <td>1.000000</td>\n",
       "      <td>1.000000</td>\n",
       "      <td>0.500000</td>\n",
       "    </tr>\n",
       "  </tbody>\n",
       "</table>\n",
       "</div>"
      ],
      "text/plain": [
       "    EducationLevelOfHead  CountNotEnrolled  CountEnrolled  Enrollment Rate\n",
       "0                      0      2,229.000000   7,728.000000         0.776137\n",
       "1                      1        590.000000   1,959.000000         0.768537\n",
       "2                      2      1,154.000000   4,463.000000         0.794552\n",
       "3                      3      1,453.000000   5,921.000000         0.802956\n",
       "4                      4        430.000000   2,308.000000         0.842951\n",
       "5                      5        182.000000   1,030.000000         0.849835\n",
       "6                      6        635.000000   4,590.000000         0.878469\n",
       "7                      7         19.000000     153.000000         0.889535\n",
       "8                      8         29.000000     261.000000         0.900000\n",
       "9                      9         80.000000     987.000000         0.925023\n",
       "10                    10          7.000000      45.000000         0.865385\n",
       "11                    11          1.000000      38.000000         0.974359\n",
       "12                    12          3.000000     173.000000         0.982955\n",
       "13                    13          3.000000      71.000000         0.959459\n",
       "14                    14          5.000000      37.000000         0.880952\n",
       "15                    15          3.000000      27.000000         0.900000\n",
       "16                    16          2.000000      32.000000         0.941176\n",
       "17                    17          1.000000      14.000000         0.933333\n",
       "18                    18          0.000000      24.000000         1.000000\n",
       "19                    20          1.000000       1.000000         0.500000"
      ]
     },
     "execution_count": 766,
     "metadata": {},
     "output_type": "execute_result"
    }
   ],
   "source": [
    "df_97 = df[df.year == 97] \n",
    "df_ho = df_97.groupby(['hohedu','sc97']).sc97.agg(['count'])\n",
    "#print(df_ho)\n",
    "df_ho = df_ho.unstack('sc97')\n",
    "df_records = pd.DataFrame(df_ho.to_records())\n",
    "#print(df_ho)\n",
    "df_records.columns = ['EducationLevelOfHead','CountNotEnrolled','CountEnrolled']\n",
    "df_records = df_records.fillna(0)\n",
    "df_records['Enrollment Rate'] = (df_records.CountEnrolled)/(df_records.CountNotEnrolled + df_records.CountEnrolled)\n",
    "df_records"
   ]
  },
  {
   "cell_type": "code",
   "execution_count": 767,
   "metadata": {
    "collapsed": false
   },
   "outputs": [
    {
     "data": {
      "text/plain": [
       "<matplotlib.text.Text at 0x2a6c5e9c7b8>"
      ]
     },
     "execution_count": 767,
     "metadata": {},
     "output_type": "execute_result"
    },
    {
     "data": {
      "image/png": "[encoded data removed]",
      "text/plain": [
       "<matplotlib.figure.Figure at 0x2a6d7022b00>"
      ]
     },
     "metadata": {},
     "output_type": "display_data"
    }
   ],
   "source": [
    "plt.scatter(df_records.EducationLevelOfHead,df_records['Enrollment Rate'])\n",
    "plt.xlim(-1,22)\n",
    "plt.ylim(0, 1.3)\n",
    "plt.ylabel('Average Enrollment Rate')\n",
    "plt.xlabel('Education level of Head of Household')\n",
    "plt.title('Education level vs. Average Enrollment Rate')"
   ]
  },
  {
   "cell_type": "markdown",
   "metadata": {},
   "source": [
    "The above scatter plot says that as the education level of the household head increases, the average enrollment rate increases (except for 10 years & around 13 years where there is slight drop in the avg enrollment rate). The outlier here is the average enrollment rate for the highest education level of household head since it is significantly lower from the rest of the cases."
   ]
  },
  {
   "cell_type": "markdown",
   "metadata": {
    "ein.tags": [
     "worksheet-0"
    ],
    "slideshow": {
     "slide_type": "-"
    }
   },
   "source": [
    "### 1.5 Graphical exploration, part 2\n",
    "\n",
    "Create a histogram of village enrollment rates **among poor households in treated villages**, before and after treatment. Specifically, for each village, calculate the average rate of enrollment of poor households in treated villages in 1997, then compute the average rate of enrollment of poor households in treated villages in 1998. Create two separate histograms showing the distribution of these average enrollments rates, one histogram for 1997 and one histogram for 1998. On each histogram, draw a vertical line that intersects the x-axis at the average value (across all households).\n",
    "* Does there appear to be a difference? Is this difference statistically significant?\n",
    "* Which D estimator in Schultz (2004) does this approach correspond to?"
   ]
  },
  {
   "cell_type": "code",
   "execution_count": 768,
   "metadata": {
    "autoscroll": "json-false",
    "collapsed": false,
    "ein.tags": [
     "worksheet-0"
    ],
    "slideshow": {
     "slide_type": "-"
    }
   },
   "outputs": [
    {
     "data": {
      "text/html": [
       "<div>\n",
       "<table border=\"1\" class=\"dataframe\">\n",
       "  <thead>\n",
       "    <tr style=\"text-align: right;\">\n",
       "      <th></th>\n",
       "      <th>Village</th>\n",
       "      <th>CountNotEnrolled</th>\n",
       "      <th>CountEnrolled</th>\n",
       "      <th>Enrollment Rate</th>\n",
       "    </tr>\n",
       "  </thead>\n",
       "  <tbody>\n",
       "    <tr>\n",
       "      <th>0</th>\n",
       "      <td>1</td>\n",
       "      <td>35.000000</td>\n",
       "      <td>106.000000</td>\n",
       "      <td>0.751773</td>\n",
       "    </tr>\n",
       "    <tr>\n",
       "      <th>1</th>\n",
       "      <td>2</td>\n",
       "      <td>21.000000</td>\n",
       "      <td>45.000000</td>\n",
       "      <td>0.681818</td>\n",
       "    </tr>\n",
       "    <tr>\n",
       "      <th>2</th>\n",
       "      <td>4</td>\n",
       "      <td>25.000000</td>\n",
       "      <td>275.000000</td>\n",
       "      <td>0.916667</td>\n",
       "    </tr>\n",
       "    <tr>\n",
       "      <th>3</th>\n",
       "      <td>5</td>\n",
       "      <td>2.000000</td>\n",
       "      <td>48.000000</td>\n",
       "      <td>0.960000</td>\n",
       "    </tr>\n",
       "    <tr>\n",
       "      <th>4</th>\n",
       "      <td>6</td>\n",
       "      <td>2.000000</td>\n",
       "      <td>55.000000</td>\n",
       "      <td>0.964912</td>\n",
       "    </tr>\n",
       "  </tbody>\n",
       "</table>\n",
       "</div>"
      ],
      "text/plain": [
       "   Village  CountNotEnrolled  CountEnrolled  Enrollment Rate\n",
       "0        1         35.000000     106.000000         0.751773\n",
       "1        2         21.000000      45.000000         0.681818\n",
       "2        4         25.000000     275.000000         0.916667\n",
       "3        5          2.000000      48.000000         0.960000\n",
       "4        6          2.000000      55.000000         0.964912"
      ]
     },
     "execution_count": 768,
     "metadata": {},
     "output_type": "execute_result"
    }
   ],
   "source": [
    "df_97 = df.loc[(df.year == 97) & (df.poor == 'pobre') & (df.progresa == 'basal')]\n",
    "df_ho = df_97.groupby(['village','sc']).sc97.agg(['count'])\n",
    "#print(df_ho)\n",
    "df_ho = df_ho.unstack('sc')\n",
    "df_records_97 = pd.DataFrame(df_ho.to_records())\n",
    "#print(df_records)\n",
    "df_records_97.columns = ['Village','CountNotEnrolled','CountEnrolled']\n",
    "df_records_97 = df_records_97.fillna(0)\n",
    "df_records_97['Enrollment Rate'] = (df_records_97.CountEnrolled)/(df_records_97.CountNotEnrolled + df_records_97.CountEnrolled)\n",
    "df_records_97.head()"
   ]
  },
  {
   "cell_type": "code",
   "execution_count": 769,
   "metadata": {
    "collapsed": false,
    "scrolled": true
   },
   "outputs": [
    {
     "data": {
      "text/plain": [
       "<matplotlib.text.Text at 0x2a6cdc73e48>"
      ]
     },
     "execution_count": 769,
     "metadata": {},
     "output_type": "execute_result"
    },
    {
     "data": {
      "image/png": "[encoded data removed]",
      "text/plain": [
       "<matplotlib.figure.Figure at 0x2a6cd49b400>"
      ]
     },
     "metadata": {},
     "output_type": "display_data"
    }
   ],
   "source": [
    "plt.hist(df_records_97['Enrollment Rate'])\n",
    "plt.axvline(df_records_97['Enrollment Rate'].mean(),color='red', linestyle='dashed', linewidth=2)\n",
    "plt.xlabel('Average Enrollment Rate in 1997')\n",
    "plt.ylabel('Village Count')\n",
    "plt.title('Histogram for Enrollment Rate in 97')"
   ]
  },
  {
   "cell_type": "code",
   "execution_count": 770,
   "metadata": {
    "collapsed": false
   },
   "outputs": [
    {
     "data": {
      "text/html": [
       "<div>\n",
       "<table border=\"1\" class=\"dataframe\">\n",
       "  <thead>\n",
       "    <tr style=\"text-align: right;\">\n",
       "      <th></th>\n",
       "      <th>Village</th>\n",
       "      <th>CountNotEnrolled</th>\n",
       "      <th>CountEnrolled</th>\n",
       "      <th>Enrollment Rate</th>\n",
       "    </tr>\n",
       "  </thead>\n",
       "  <tbody>\n",
       "    <tr>\n",
       "      <th>0</th>\n",
       "      <td>1</td>\n",
       "      <td>26.000000</td>\n",
       "      <td>104.000000</td>\n",
       "      <td>0.800000</td>\n",
       "    </tr>\n",
       "    <tr>\n",
       "      <th>1</th>\n",
       "      <td>2</td>\n",
       "      <td>16.000000</td>\n",
       "      <td>40.000000</td>\n",
       "      <td>0.714286</td>\n",
       "    </tr>\n",
       "    <tr>\n",
       "      <th>2</th>\n",
       "      <td>4</td>\n",
       "      <td>19.000000</td>\n",
       "      <td>255.000000</td>\n",
       "      <td>0.930657</td>\n",
       "    </tr>\n",
       "    <tr>\n",
       "      <th>3</th>\n",
       "      <td>5</td>\n",
       "      <td>15.000000</td>\n",
       "      <td>75.000000</td>\n",
       "      <td>0.833333</td>\n",
       "    </tr>\n",
       "    <tr>\n",
       "      <th>4</th>\n",
       "      <td>6</td>\n",
       "      <td>5.000000</td>\n",
       "      <td>51.000000</td>\n",
       "      <td>0.910714</td>\n",
       "    </tr>\n",
       "  </tbody>\n",
       "</table>\n",
       "</div>"
      ],
      "text/plain": [
       "   Village  CountNotEnrolled  CountEnrolled  Enrollment Rate\n",
       "0        1         26.000000     104.000000         0.800000\n",
       "1        2         16.000000      40.000000         0.714286\n",
       "2        4         19.000000     255.000000         0.930657\n",
       "3        5         15.000000      75.000000         0.833333\n",
       "4        6          5.000000      51.000000         0.910714"
      ]
     },
     "execution_count": 770,
     "metadata": {},
     "output_type": "execute_result"
    }
   ],
   "source": [
    "df_98 = df.loc[(df.year == 98) & (df.poor == 'pobre') & (df.progresa == 'basal')]\n",
    "df_ho = df_98.groupby(['village','sc']).sc.agg(['count'])\n",
    "#print(df_ho)\n",
    "df_ho = df_ho.unstack('sc')\n",
    "df_records_98 = pd.DataFrame(df_ho.to_records())\n",
    "#print(df_records)\n",
    "df_records_98.columns = ['Village','CountNotEnrolled','CountEnrolled']\n",
    "df_records_98 = df_records_98.fillna(0)\n",
    "df_records_98['Enrollment Rate'] = (df_records_98.CountEnrolled)/(df_records_98.CountNotEnrolled + df_records_98.CountEnrolled)\n",
    "df_records_98.head()"
   ]
  },
  {
   "cell_type": "code",
   "execution_count": 771,
   "metadata": {
    "collapsed": false
   },
   "outputs": [
    {
     "data": {
      "text/plain": [
       "<matplotlib.text.Text at 0x2a6d439e6d8>"
      ]
     },
     "execution_count": 771,
     "metadata": {},
     "output_type": "execute_result"
    },
    {
     "data": {
      "image/png": "[encoded data removed]",
      "text/plain": [
       "<matplotlib.figure.Figure at 0x2a6cdc7a4e0>"
      ]
     },
     "metadata": {},
     "output_type": "display_data"
    }
   ],
   "source": [
    "plt.hist(df_records_98['Enrollment Rate'])\n",
    "plt.axvline(df_records_98['Enrollment Rate'].mean(),color='red', linestyle='dashed', linewidth=2)\n",
    "plt.xlabel('Average Enrollment Rate in 1998')\n",
    "plt.ylabel('Village Count')\n",
    "plt.title('Histogram for Enrollment Rate in 98')"
   ]
  },
  {
   "cell_type": "code",
   "execution_count": 772,
   "metadata": {
    "collapsed": false
   },
   "outputs": [
    {
     "name": "stdout",
     "output_type": "stream",
     "text": [
      "Mean of Average Enrollment Rate in 1997 0.8138394110596501\n",
      "Mean of Average Enrollment Rate in 1998 0.8295362042630732\n",
      "t statistic is  -2.01571348652\n",
      "pvalue is  0.0442487003657\n"
     ]
    }
   ],
   "source": [
    "#Calculating means, t statistic & p value\n",
    "\n",
    "print ('Mean of Average Enrollment Rate in 1997', df_records_97['Enrollment Rate'].mean())\n",
    "print ('Mean of Average Enrollment Rate in 1998', df_records_98['Enrollment Rate'].mean())\n",
    "\n",
    "t_value = stats.ttest_ind(df_records_97['Enrollment Rate'],df_records_98['Enrollment Rate'], nan_policy='omit').statistic\n",
    "p_value = stats.ttest_ind(df_records_97['Enrollment Rate'],df_records_98['Enrollment Rate'], nan_policy='omit').pvalue\n",
    "\n",
    "print('t statistic is ', t_value)\n",
    "print('pvalue is ', p_value)"
   ]
  },
  {
   "cell_type": "markdown",
   "metadata": {},
   "source": [
    "* Does there appear to be a difference? Is this difference statistically significant?\n",
    "The mean of average enrollment rate increases only slightly from 1997 (0.813) to 1998 (0.829). However, the t test gives a \n",
    "statistically significant value which means that the difference in average enrollment rate between 1997 & 1998 is significant.\n",
    "\n",
    "* Which D estimator in Schultz (2004) does this approach correspond to?\n",
    "This corresponds to DD1 estimator in Schultz which is the difference in averages before & after program."
   ]
  },
  {
   "cell_type": "markdown",
   "metadata": {
    "ein.tags": [
     "worksheet-0"
    ],
    "slideshow": {
     "slide_type": "-"
    }
   },
   "source": [
    "## Part 2: Measuring Impact\n",
    "\n",
    "### 2.1 Simple differences: T-test\n",
    "\n",
    "Start out by estimating the impact of Progresa using \"simple differences.\" Restricting yourself to data from 1998 (after treatment).\n",
    "* calculate the average enrollment rate among **poor** households in the Treatment villages and the average enrollment rate among **poor** households in the control villages.\n",
    "* Which difference estimator in Schultz (2004) does this approach correspond to?\n",
    "* Use a t-test to determine if this difference is statistically significant. What do you conclude?"
   ]
  },
  {
   "cell_type": "code",
   "execution_count": 773,
   "metadata": {
    "autoscroll": "json-false",
    "collapsed": false,
    "ein.tags": [
     "worksheet-0"
    ],
    "slideshow": {
     "slide_type": "-"
    }
   },
   "outputs": [
    {
     "name": "stdout",
     "output_type": "stream",
     "text": [
      "Average enrollment rate among poor households in the Treatment villages  is : 0.846479121395\n",
      "Average enrollment rate among poor households in the Control villages  is : 0.80763695673\n"
     ]
    }
   ],
   "source": [
    "t_98 = df.loc[(df.year == 98) & (df.poor == 'pobre') & (df.progresa == 'basal')]\n",
    "c_98 = df.loc[(df.year == 98) & (df.poor == 'pobre') & (df.progresa == '0')]\n",
    "\n",
    "t_98_avg_sc = t_98.mean()['sc']\n",
    "c_98_avg_sc= c_98.mean()['sc']\n",
    "\n",
    "print('Average enrollment rate among poor households in the Treatment villages  is :',t_98_avg_sc)\n",
    "print('Average enrollment rate among poor households in the Control villages  is :',c_98_avg_sc)"
   ]
  },
  {
   "cell_type": "markdown",
   "metadata": {},
   "source": [
    "Which difference estimator in Schultz (2004) does this approach correspond to?\n",
    "\n",
    "This approach corresponds to D1 difference estimator in Schultz which is difference in post-program averages among treatment & control groups."
   ]
  },
  {
   "cell_type": "markdown",
   "metadata": {},
   "source": [
    "Use a t-test to determine if this difference is statistically significant. What do you conclude?"
   ]
  },
  {
   "cell_type": "code",
   "execution_count": 774,
   "metadata": {
    "collapsed": false
   },
   "outputs": [
    {
     "name": "stdout",
     "output_type": "stream",
     "text": [
      "t statistic :  8.35872056742\n",
      "pvalue :  6.63634444738e-17\n"
     ]
    }
   ],
   "source": [
    "t_statistic = stats.ttest_ind(t_98['sc'],c_98['sc'], nan_policy='omit').statistic\n",
    "p_value = stats.ttest_ind(t_98['sc'],c_98['sc'], nan_policy='omit').pvalue\n",
    "print('t statistic : ', t_statistic)\n",
    "print('pvalue : ', p_value)"
   ]
  },
  {
   "cell_type": "markdown",
   "metadata": {},
   "source": [
    "From the t-test, the pvalue is lower than 0.05 and hence the difference between the treatment & control group is statistically significant."
   ]
  },
  {
   "cell_type": "markdown",
   "metadata": {
    "ein.tags": [
     "worksheet-0"
    ],
    "slideshow": {
     "slide_type": "-"
    }
   },
   "source": [
    "### 2.2 Simple differences: Regression\n",
    "\n",
    "Estimate the effects of Progresa on enrollment using a regression model, by regressing the 1998 enrollment rates **of the poor** on treatment assignment."
   ]
  },
  {
   "cell_type": "code",
   "execution_count": 775,
   "metadata": {
    "autoscroll": "json-false",
    "collapsed": false,
    "ein.tags": [
     "worksheet-0"
    ],
    "slideshow": {
     "slide_type": "-"
    }
   },
   "outputs": [
    {
     "name": "stdout",
     "output_type": "stream",
     "text": [
      "                            OLS Regression Results                            \n",
      "==============================================================================\n",
      "Dep. Variable:                     sc   R-squared:                       0.003\n",
      "Model:                            OLS   Adj. R-squared:                  0.003\n",
      "Method:                 Least Squares   F-statistic:                     69.87\n",
      "Date:                Tue, 02 May 2017   Prob (F-statistic):           6.64e-17\n",
      "Time:                        15:27:12   Log-Likelihood:                -11926.\n",
      "No. Observations:               27450   AIC:                         2.386e+04\n",
      "Df Residuals:                   27448   BIC:                         2.387e+04\n",
      "Df Model:                           1                                         \n",
      "Covariance Type:            nonrobust                                         \n",
      "=====================================================================================\n",
      "                        coef    std err          t      P>|t|      [95.0% Conf. Int.]\n",
      "-------------------------------------------------------------------------------------\n",
      "Intercept             0.8076      0.004    220.676      0.000         0.800     0.815\n",
      "progresa[T.basal]     0.0388      0.005      8.359      0.000         0.030     0.048\n",
      "==============================================================================\n",
      "Omnibus:                     7638.939   Durbin-Watson:                   1.734\n",
      "Prob(Omnibus):                  0.000   Jarque-Bera (JB):            15767.534\n",
      "Skew:                          -1.767   Prob(JB):                         0.00\n",
      "Kurtosis:                       4.140   Cond. No.                         3.01\n",
      "==============================================================================\n",
      "\n",
      "Warnings:\n",
      "[1] Standard Errors assume that the covariance matrix of the errors is correctly specified.\n",
      "Intercept           0.807637\n",
      "progresa[T.basal]   0.038842\n",
      "dtype: float64\n"
     ]
    }
   ],
   "source": [
    "poor_98 = df[(df.poor=='pobre') & (df.year==98)]\n",
    "lm = ols(formula = 'sc ~ progresa', data = poor_98).fit()\n",
    "print(lm.summary())\n",
    "print(lm.params)"
   ]
  },
  {
   "cell_type": "markdown",
   "metadata": {},
   "source": [
    "* Based on this model, how much did Progresa increase the likelihood of a child enrolling?\n",
    "\n",
    "Progresa increased the likelihood of a child enrolling by 0.0388 units. From the p-value, there is an increase of 0.0388 in the average enrollment rate due to Progresa. The intercept says that in the absence of treatment, the average enrollment rate would have been 0.8076 units.\n",
    "\n",
    "* How does your regression estimate compare to your t-test estimate from part 2.1?\n",
    "\n",
    "The regression estimate from the summary of the linear regression is 8.359 which is the same as the t-test estimate fromom 2.1\n",
    "\n",
    "* Based on this regression model, can we reject the null hypothesis that the treatment effects are zero? \n",
    "\n",
    "Yes, we can reject the null hypothesis that the treatment effects are zero since the p-value is statistically significant.\n",
    "\n",
    "* What is the counterfactual assumption underlying this regression?\n",
    "\n",
    "The counterfactual assumption is that if there was no treatment, the average enrollment rates in the treatment & control groups would have been the same."
   ]
  },
  {
   "cell_type": "markdown",
   "metadata": {
    "ein.tags": [
     "worksheet-0"
    ],
    "slideshow": {
     "slide_type": "-"
    }
   },
   "source": [
    "### 2.3 Multiple Regression\n",
    "\n",
    "Re-run the above regression estimated but this time include a set of control variables. Include, for instance, age, distance to a secondary school, gender, education of household head, indigenous, etc.\n",
    "\n",
    "* How do the controls affect the point estimate of treatment effect?\n",
    "* How do the controls affect the standard error on the treatment effect? \n",
    "* How do you interpret the differences (or similarities) between your estimates of 2.2 and 2.3?"
   ]
  },
  {
   "cell_type": "code",
   "execution_count": 776,
   "metadata": {
    "autoscroll": "json-false",
    "collapsed": false,
    "ein.tags": [
     "worksheet-0"
    ],
    "slideshow": {
     "slide_type": "-"
    }
   },
   "outputs": [
    {
     "name": "stdout",
     "output_type": "stream",
     "text": [
      "                            OLS Regression Results                            \n",
      "==============================================================================\n",
      "Dep. Variable:                     sc   R-squared:                       0.272\n",
      "Model:                            OLS   Adj. R-squared:                  0.272\n",
      "Method:                 Least Squares   F-statistic:                     849.5\n",
      "Date:                Tue, 02 May 2017   Prob (F-statistic):               0.00\n",
      "Time:                        15:27:12   Log-Likelihood:                -7541.1\n",
      "No. Observations:               27263   AIC:                         1.511e+04\n",
      "Df Residuals:                   27250   BIC:                         1.521e+04\n",
      "Df Model:                          12                                         \n",
      "Covariance Type:            nonrobust                                         \n",
      "=====================================================================================\n",
      "                        coef    std err          t      P>|t|      [95.0% Conf. Int.]\n",
      "-------------------------------------------------------------------------------------\n",
      "Intercept             1.4431      0.018     80.855      0.000         1.408     1.478\n",
      "progresa[T.basal]     0.0337      0.004      8.418      0.000         0.026     0.042\n",
      "sex                   0.0304      0.004      7.847      0.000         0.023     0.038\n",
      "indig                 0.0188      0.005      3.961      0.000         0.009     0.028\n",
      "dist_sec             -0.0106      0.001    -12.012      0.000        -0.012    -0.009\n",
      "fam_n                 0.0006      0.001      0.727      0.467        -0.001     0.002\n",
      "min_dist              0.0004   6.34e-05      6.326      0.000         0.000     0.001\n",
      "dist_cap              0.0002    3.7e-05      5.512      0.000         0.000     0.000\n",
      "hohedu                0.0079      0.001      9.224      0.000         0.006     0.010\n",
      "hohwag             -7.23e-07   2.81e-06     -0.257      0.797     -6.24e-06  4.79e-06\n",
      "welfare_index      2.283e-05   1.82e-05      1.253      0.210     -1.29e-05  5.85e-05\n",
      "age                  -0.0657      0.001    -94.750      0.000        -0.067    -0.064\n",
      "hohage            -2.299e-05      0.000     -0.118      0.906        -0.000     0.000\n",
      "==============================================================================\n",
      "Omnibus:                     2940.375   Durbin-Watson:                   1.729\n",
      "Prob(Omnibus):                  0.000   Jarque-Bera (JB):             3992.254\n",
      "Skew:                          -0.930   Prob(JB):                         0.00\n",
      "Kurtosis:                       3.237   Cond. No.                     9.54e+03\n",
      "==============================================================================\n",
      "\n",
      "Warnings:\n",
      "[1] Standard Errors assume that the covariance matrix of the errors is correctly specified.\n",
      "[2] The condition number is large, 9.54e+03. This might indicate that there are\n",
      "strong multicollinearity or other numerical problems.\n"
     ]
    }
   ],
   "source": [
    "lm2 = ols(formula = 'sc ~ progresa + sex + indig + dist_sec + fam_n + min_dist + dist_cap + hohedu + hohwag + welfare_index + age + hohage',data = poor_98).fit()\n",
    "print(lm2.summary())"
   ]
  },
  {
   "cell_type": "markdown",
   "metadata": {},
   "source": [
    "How do the controls affect the point estimate of treatment effect?\n",
    "\n",
    "From the summary of the multiple regression parameters, the p-value is 0.0337 which is lower than p-value without controls added(0.0388). Also, the R-squared value is 0.272 compared to 0.003 earlier, which says that the controls have a significant impact on the point estimate.\n",
    "\n",
    "How do the controls affect the standard error on the treatment effect?\n",
    "\n",
    "The standard error before that treatment was 0.005 while the standard error after treament is 0.004. Thus the point estimate improves with addition of controls.\n",
    "\n",
    "How do you interpret the differences (or similarities) between your estimates of 2.2 and 2.3?\n",
    "\n",
    "The intercept value increases from 0.807 to 1.443 which says that in the absence of the treatment, the avg enrollment is higher when control variables are introduced. Also,  we see that as the distance of secondary school increases by 1 unit, the avg enrollment rate decreases by 0.0106 units. Another interesting thing is as the age of the head of household increases by 1 unit, the enrollment rate drops by -2.299e-05 units."
   ]
  },
  {
   "cell_type": "markdown",
   "metadata": {
    "ein.tags": [
     "worksheet-0"
    ],
    "slideshow": {
     "slide_type": "-"
    }
   },
   "source": [
    "### 2.4 Difference-in-Difference, version 1 (tabular)\n",
    "\n",
    "Thus far, we have computed the effects of Progresa by estimating the difference in 1998 enrollment rates across villages. An alternative approach would be to compute the treatment effect using a difference-in-differences framework.\n",
    "\n",
    "Begin by estimating the average treatment effects of the program for poor households using data from 1997 and 1998. Specifically, calculate the difference (between 1997 and 1998) in enrollment rates among poor households in treated villages; then compute the difference (between 1997 and 1998) in enrollment rates among poor households in treated villages. The difference between these two differences is your estimate.\n",
    "\n",
    "* What is your estimate of the impact, and how does it compare to your earlier (simple difference) results?\n",
    "* What is the counterfactual assumption underlying this estimate? \n"
   ]
  },
  {
   "cell_type": "code",
   "execution_count": 777,
   "metadata": {
    "autoscroll": "json-false",
    "collapsed": false,
    "ein.tags": [
     "worksheet-0"
    ],
    "slideshow": {
     "slide_type": "-"
    }
   },
   "outputs": [
    {
     "name": "stdout",
     "output_type": "stream",
     "text": [
      "0.0313312803193\n"
     ]
    }
   ],
   "source": [
    "t_97 = df.loc[(df.year == 97) & (df.poor == 'pobre') & (df.progresa == 'basal')]\n",
    "c_97 = df.loc[(df.year == 97) & (df.poor == 'pobre') & (df.progresa == '0')]\n",
    "\n",
    "t_98 = df.loc[(df.year == 98) & (df.poor == 'pobre') & (df.progresa == 'basal')]\n",
    "c_98 = df.loc[(df.year == 98) & (df.poor == 'pobre') & (df.progresa == '0')]\n",
    "\n",
    "\n",
    "t_avg_97 = t_97.mean()['sc']\n",
    "c_avg_97 = c_97.mean()['sc']\n",
    "t_c_diff_97 = t_avg_97 - c_avg_97\n",
    "\n",
    "t_avg_98 = t_98.mean()['sc']\n",
    "c_avg_98 = c_98.mean()['sc']\n",
    "t_c_diff_98 = t_avg_98 - c_avg_98\n",
    "\n",
    "diff = t_c_diff_98 - t_c_diff_97\n",
    "print(diff)"
   ]
  },
  {
   "cell_type": "markdown",
   "metadata": {},
   "source": [
    "What is your estimate of the impact, and how does it compare to your earlier (simple difference) results?\n",
    "The estimate of the impact using the difference-in-differences framework is 0.0313. This value is lesser than the simple difference obtained from multiple regression(0.0337) & linear regression(0.0388)\n",
    "\n",
    "What is the counterfactual assumption underlying this estimate?\n",
    "\n",
    "The counterfactual assumption is that if there was no treatment, the trends in average enrollment rates in the treatment & control groups would have been the same."
   ]
  },
  {
   "cell_type": "markdown",
   "metadata": {
    "ein.tags": [
     "worksheet-0"
    ],
    "slideshow": {
     "slide_type": "-"
    }
   },
   "source": [
    "### 2.5 Difference-in-Difference, version 1 (regression)\n",
    "\n",
    "Now use a regression specification to estimate the average treatment effect of the program (on the poor) in a difference-in-differences framework. Include at least 5 control variables.\n",
    "\n",
    "* What is your estimate of the impact of Progresa? Be very specific in interpreting your coefficients and standard errors, and make sure to specify exactly what units you are measuring and estimating.\n",
    "* How do these estimates of the treatment effect compare to the estimates based on the simple difference?\n",
    "* How do these estimates compare to the difference-in-difference estimates from 2.4 above? What accounts for these differences?\n",
    "* What is the counterfactual assumption underlying this regression? "
   ]
  },
  {
   "cell_type": "code",
   "execution_count": 778,
   "metadata": {
    "autoscroll": "json-false",
    "collapsed": false,
    "ein.tags": [
     "worksheet-0"
    ],
    "slideshow": {
     "slide_type": "-"
    }
   },
   "outputs": [
    {
     "name": "stdout",
     "output_type": "stream",
     "text": [
      "                            OLS Regression Results                            \n",
      "==============================================================================\n",
      "Dep. Variable:                     sc   R-squared:                       0.279\n",
      "Model:                            OLS   Adj. R-squared:                  0.279\n",
      "Method:                 Least Squares   F-statistic:                     2810.\n",
      "Date:                Tue, 02 May 2017   Prob (F-statistic):               0.00\n",
      "Time:                        15:27:14   Log-Likelihood:                -16717.\n",
      "No. Observations:               58165   AIC:                         3.345e+04\n",
      "Df Residuals:                   58156   BIC:                         3.353e+04\n",
      "Df Model:                           8                                         \n",
      "Covariance Type:            nonrobust                                         \n",
      "================================================================================================\n",
      "                                   coef    std err          t      P>|t|      [95.0% Conf. Int.]\n",
      "------------------------------------------------------------------------------------------------\n",
      "Intercept                        1.4940      0.006    231.606      0.000         1.481     1.507\n",
      "progresa[T.basal]                0.0043      0.004      1.137      0.256        -0.003     0.012\n",
      "yearBinary                       0.0270      0.004      6.204      0.000         0.018     0.036\n",
      "progresa[T.basal]:yearBinary     0.0314      0.006      5.685      0.000         0.021     0.042\n",
      "age                             -0.0655      0.000   -144.433      0.000        -0.066    -0.065\n",
      "indig                            0.0496      0.003     17.304      0.000         0.044     0.055\n",
      "dist_sec                        -0.0110      0.001    -17.788      0.000        -0.012    -0.010\n",
      "sex                              0.0339      0.003     12.672      0.000         0.029     0.039\n",
      "hohedu                           0.0076      0.001     14.110      0.000         0.007     0.009\n",
      "==============================================================================\n",
      "Omnibus:                     5523.777   Durbin-Watson:                   1.484\n",
      "Prob(Omnibus):                  0.000   Jarque-Bera (JB):             7269.312\n",
      "Skew:                          -0.864   Prob(JB):                         0.00\n",
      "Kurtosis:                       3.113   Cond. No.                         70.8\n",
      "==============================================================================\n",
      "\n",
      "Warnings:\n",
      "[1] Standard Errors assume that the covariance matrix of the errors is correctly specified.\n"
     ]
    }
   ],
   "source": [
    "df.loc[df['poor'] == 'pobre', 'poorBinary'] = 1\n",
    "df.loc[df['poor'] ==  'no pobre', 'poorBinary'] = 0\n",
    "\n",
    "df.loc[df.year == 97, 'yearBinary'] = 0\n",
    "df.loc[df.year == 98, 'yearBinary'] = 1\n",
    "\n",
    "df_poor = df[(df.poorBinary == 1)]\n",
    "\n",
    "lm3 = ols(formula='sc ~ progresa + yearBinary + progresa*yearBinary + age + indig + dist_sec + sex + hohedu', data=df_poor).fit()\n",
    "\n",
    "print(lm3.summary())\n"
   ]
  },
  {
   "cell_type": "markdown",
   "metadata": {},
   "source": [
    "What is your estimate of the impact of Progresa? Be very specific in interpreting your coefficients and standard errors, and make sure to specify exactly what units you are measuring and estimating.\n",
    "\n",
    "Binary variable for year is created since the control variable has to be binary. We call it yearBinary.\n",
    "Interpretations:\n",
    "1)The interaction between the treatment term and the year is interpretted as \"progresa:yearBinary\" which is the interaction coefficient. Thus as per this variable, in 1998, the average enrollment rates would be 0.0314 higher in the treatment group. \n",
    "2)From the variable yearBinary, the average enrollment rate increases by 0.0270 in 1998. \n",
    "3)The progresa coefficient has the value 0.0043 but it is no longer statistically significant.\n",
    "\n",
    "How do these estimates of the treatment effect compare to the estimates based on the simple difference?\n",
    "\n",
    "The estimates of the treatment effect are lesser compared to the estimates based on the simple difference. The difference in difference approach is better compared to simple difference since we consider the interaction variable which helps in considering both treatment & control variables together instead of taking them independently.\n",
    "\n",
    "How do these estimates compare to the difference-in-difference estimates from 2.4 above? What accounts for these differences?\n",
    "\n",
    "These estimates are almost similar to the estimates in 2.4 above. However, here we have 3 variables due to the introduction of the interaction variable. Hence, this variable has caused slightly different changes in all the estimates.\n",
    "\n",
    "What is the counterfactual assumption underlying this regression?\n",
    "\n",
    "The counterfactual assumption is that the trends in treatment and control groups would have been the same in the absence of treatment as well."
   ]
  },
  {
   "cell_type": "markdown",
   "metadata": {
    "ein.tags": [
     "worksheet-0"
    ],
    "slideshow": {
     "slide_type": "-"
    }
   },
   "source": [
    "### 2.6 Difference-in-Difference, version 2\n",
    "\n",
    "In the previous problem, you estimated a difference-in-differences model that compared changes in enrollment rates over time across treatment and control villages. An alternative approach would be to compare enrollment rates in 1998 between poor and non-poor across treatment and control villages. \n",
    "\n",
    "* How would we estimate this version of the treatment effects in a regression model? \n",
    "* What is the counterfactual assumption underlying this regression?\n",
    "* How do these treatment effects compare to the estimates above?\n",
    "* Discuss some possible explanations for differences or similarities "
   ]
  },
  {
   "cell_type": "code",
   "execution_count": 779,
   "metadata": {
    "autoscroll": "json-false",
    "collapsed": false,
    "ein.tags": [
     "worksheet-0"
    ],
    "slideshow": {
     "slide_type": "-"
    }
   },
   "outputs": [
    {
     "data": {
      "text/html": [
       "<table class=\"simpletable\">\n",
       "<caption>OLS Regression Results</caption>\n",
       "<tr>\n",
       "  <th>Dep. Variable:</th>           <td>sc</td>        <th>  R-squared:         </th> <td>   0.274</td> \n",
       "</tr>\n",
       "<tr>\n",
       "  <th>Model:</th>                   <td>OLS</td>       <th>  Adj. R-squared:    </th> <td>   0.274</td> \n",
       "</tr>\n",
       "<tr>\n",
       "  <th>Method:</th>             <td>Least Squares</td>  <th>  F-statistic:       </th> <td>   1344.</td> \n",
       "</tr>\n",
       "<tr>\n",
       "  <th>Date:</th>             <td>Tue, 02 May 2017</td> <th>  Prob (F-statistic):</th>  <td>  0.00</td>  \n",
       "</tr>\n",
       "<tr>\n",
       "  <th>Time:</th>                 <td>15:27:14</td>     <th>  Log-Likelihood:    </th> <td> -9237.3</td> \n",
       "</tr>\n",
       "<tr>\n",
       "  <th>No. Observations:</th>      <td> 32097</td>      <th>  AIC:               </th> <td>1.849e+04</td>\n",
       "</tr>\n",
       "<tr>\n",
       "  <th>Df Residuals:</th>          <td> 32087</td>      <th>  BIC:               </th> <td>1.858e+04</td>\n",
       "</tr>\n",
       "<tr>\n",
       "  <th>Df Model:</th>              <td>     9</td>      <th>                     </th>     <td> </td>    \n",
       "</tr>\n",
       "<tr>\n",
       "  <th>Covariance Type:</th>      <td>nonrobust</td>    <th>                     </th>     <td> </td>    \n",
       "</tr>\n",
       "</table>\n",
       "<table class=\"simpletable\">\n",
       "<tr>\n",
       "                <td></td>                  <th>coef</th>     <th>std err</th>      <th>t</th>      <th>P>|t|</th> <th>[95.0% Conf. Int.]</th> \n",
       "</tr>\n",
       "<tr>\n",
       "  <th>Intercept</th>                    <td>    1.4816</td> <td>    0.012</td> <td>  122.903</td> <td> 0.000</td> <td>    1.458     1.505</td>\n",
       "</tr>\n",
       "<tr>\n",
       "  <th>progresa[T.basal]</th>            <td>    0.0250</td> <td>    0.010</td> <td>    2.583</td> <td> 0.010</td> <td>    0.006     0.044</td>\n",
       "</tr>\n",
       "<tr>\n",
       "  <th>poorBinary</th>                   <td>   -0.0211</td> <td>    0.008</td> <td>   -2.558</td> <td> 0.011</td> <td>   -0.037    -0.005</td>\n",
       "</tr>\n",
       "<tr>\n",
       "  <th>progresa[T.basal]:poorBinary</th> <td>    0.0094</td> <td>    0.010</td> <td>    0.894</td> <td> 0.371</td> <td>   -0.011     0.030</td>\n",
       "</tr>\n",
       "<tr>\n",
       "  <th>sex</th>                          <td>    0.0306</td> <td>    0.004</td> <td>    8.493</td> <td> 0.000</td> <td>    0.024     0.038</td>\n",
       "</tr>\n",
       "<tr>\n",
       "  <th>dist_sec</th>                     <td>   -0.0105</td> <td>    0.001</td> <td>  -12.741</td> <td> 0.000</td> <td>   -0.012    -0.009</td>\n",
       "</tr>\n",
       "<tr>\n",
       "  <th>min_dist</th>                     <td>    0.0003</td> <td> 5.92e-05</td> <td>    5.736</td> <td> 0.000</td> <td>    0.000     0.000</td>\n",
       "</tr>\n",
       "<tr>\n",
       "  <th>dist_cap</th>                     <td>    0.0003</td> <td> 3.28e-05</td> <td>    9.368</td> <td> 0.000</td> <td>    0.000     0.000</td>\n",
       "</tr>\n",
       "<tr>\n",
       "  <th>hohedu</th>                       <td>    0.0085</td> <td>    0.001</td> <td>   12.210</td> <td> 0.000</td> <td>    0.007     0.010</td>\n",
       "</tr>\n",
       "<tr>\n",
       "  <th>age</th>                          <td>   -0.0661</td> <td>    0.001</td> <td> -103.966</td> <td> 0.000</td> <td>   -0.067    -0.065</td>\n",
       "</tr>\n",
       "</table>\n",
       "<table class=\"simpletable\">\n",
       "<tr>\n",
       "  <th>Omnibus:</th>       <td>3179.660</td> <th>  Durbin-Watson:     </th> <td>   1.732</td>\n",
       "</tr>\n",
       "<tr>\n",
       "  <th>Prob(Omnibus):</th>  <td> 0.000</td>  <th>  Jarque-Bera (JB):  </th> <td>4231.906</td>\n",
       "</tr>\n",
       "<tr>\n",
       "  <th>Skew:</th>           <td>-0.888</td>  <th>  Prob(JB):          </th> <td>    0.00</td>\n",
       "</tr>\n",
       "<tr>\n",
       "  <th>Kurtosis:</th>       <td> 3.111</td>  <th>  Cond. No.          </th> <td>1.92e+03</td>\n",
       "</tr>\n",
       "</table>"
      ],
      "text/plain": [
       "<class 'statsmodels.iolib.summary.Summary'>\n",
       "\"\"\"\n",
       "                            OLS Regression Results                            \n",
       "==============================================================================\n",
       "Dep. Variable:                     sc   R-squared:                       0.274\n",
       "Model:                            OLS   Adj. R-squared:                  0.274\n",
       "Method:                 Least Squares   F-statistic:                     1344.\n",
       "Date:                Tue, 02 May 2017   Prob (F-statistic):               0.00\n",
       "Time:                        15:27:14   Log-Likelihood:                -9237.3\n",
       "No. Observations:               32097   AIC:                         1.849e+04\n",
       "Df Residuals:                   32087   BIC:                         1.858e+04\n",
       "Df Model:                           9                                         \n",
       "Covariance Type:            nonrobust                                         \n",
       "================================================================================================\n",
       "                                   coef    std err          t      P>|t|      [95.0% Conf. Int.]\n",
       "------------------------------------------------------------------------------------------------\n",
       "Intercept                        1.4816      0.012    122.903      0.000         1.458     1.505\n",
       "progresa[T.basal]                0.0250      0.010      2.583      0.010         0.006     0.044\n",
       "poorBinary                      -0.0211      0.008     -2.558      0.011        -0.037    -0.005\n",
       "progresa[T.basal]:poorBinary     0.0094      0.010      0.894      0.371        -0.011     0.030\n",
       "sex                              0.0306      0.004      8.493      0.000         0.024     0.038\n",
       "dist_sec                        -0.0105      0.001    -12.741      0.000        -0.012    -0.009\n",
       "min_dist                         0.0003   5.92e-05      5.736      0.000         0.000     0.000\n",
       "dist_cap                         0.0003   3.28e-05      9.368      0.000         0.000     0.000\n",
       "hohedu                           0.0085      0.001     12.210      0.000         0.007     0.010\n",
       "age                             -0.0661      0.001   -103.966      0.000        -0.067    -0.065\n",
       "==============================================================================\n",
       "Omnibus:                     3179.660   Durbin-Watson:                   1.732\n",
       "Prob(Omnibus):                  0.000   Jarque-Bera (JB):             4231.906\n",
       "Skew:                          -0.888   Prob(JB):                         0.00\n",
       "Kurtosis:                       3.111   Cond. No.                     1.92e+03\n",
       "==============================================================================\n",
       "\n",
       "Warnings:\n",
       "[1] Standard Errors assume that the covariance matrix of the errors is correctly specified.\n",
       "[2] The condition number is large, 1.92e+03. This might indicate that there are\n",
       "strong multicollinearity or other numerical problems.\n",
       "\"\"\""
      ]
     },
     "execution_count": 779,
     "metadata": {},
     "output_type": "execute_result"
    }
   ],
   "source": [
    "df_98 = df[df['year'] == 98]\n",
    "\n",
    "lm4 = ols(formula = 'sc ~ progresa + poorBinary + progresa*poorBinary + sex + dist_sec  + min_dist + dist_cap + hohedu + age', data=df_98).fit()\n",
    "\n",
    "lm4.summary()"
   ]
  },
  {
   "cell_type": "markdown",
   "metadata": {},
   "source": [
    "How would we estimate this version of the treatment effects in a regression model?\n",
    "\n",
    "Binary variable for poor is created since the control variable has to be binary. We call it poorBinary.\n",
    "Interpretations:\n",
    "1)The interaction between the treatment term and the year is interpretted as \"progresa:poorBinary\" which is the interaction coefficient. Thus as per this variable, in 1998, the average enrollment rates would be 0.0094 higher in the poor group. This however, is not statistically significant.\n",
    "2)From the variable poorBinary, the average enrollment rate decreases by 0.0211 in 1998.This means the enrollment rate in poor households reduced by 0.0211 units in 1998.\n",
    "3)The progresa coefficient has the value 0.025 & is statistically significant.This means the enrollment rate increased by 0.025 due to Progresa program.\n",
    "\n",
    "What is the counterfactual assumption underlying this regression?\n",
    "\n",
    "The counterfactual assumption is that the average enrollment rates would have been the same in poor & non-poor groups in absense of the treatment.\n",
    "\n",
    "How do these treatment effects compare to the estimates above?\n",
    "\n",
    "The estimates of the treatment effect are lesser compared to the estimates based on the simple difference. The p value for the interaction term is not statistically significant in this case & also the enrollment rate has lowered in poor groups in 1998 (since poorBinary value is negative).\n",
    "\n",
    "Discuss some possible explanations for differences or similarities\n",
    "\n",
    "The reason for the difference can be because only poor households are supposed to be a part of this program. Considering non-poor households has made the interaction term statistically insignificant."
   ]
  },
  {
   "cell_type": "markdown",
   "metadata": {
    "ein.tags": [
     "worksheet-0"
    ],
    "slideshow": {
     "slide_type": "-"
    }
   },
   "source": [
    "### 2.7 Spillover effects (extra credit)\n",
    "\n",
    "Thus far, we have focused on the impact of PROGRESA on poor households. Repeat your analysis in 2.5, using a double-difference regression to estimate the impact of PROGRESA on non-poor households. In other words, compare the difference in enrollments between 1997 and 1998 for non-poor households in treatment villages with the difference in enrollments between 1997 and 1998 for non-poor households in control villages.\n",
    "\n",
    "* A: Describe one or two reasons why PROGRESA might have impacted non-poor households.\n",
    "* B: Do you observe any impacts of PROGRESA on the non-poor?\n",
    "* C: What is the identifying assumption that you are using to estimate the impact of PROGRESA on non-poor households."
   ]
  },
  {
   "cell_type": "code",
   "execution_count": 780,
   "metadata": {
    "autoscroll": "json-false",
    "collapsed": false,
    "ein.tags": [
     "worksheet-0"
    ],
    "scrolled": true,
    "slideshow": {
     "slide_type": "-"
    }
   },
   "outputs": [
    {
     "data": {
      "text/html": [
       "<table class=\"simpletable\">\n",
       "<caption>OLS Regression Results</caption>\n",
       "<tr>\n",
       "  <th>Dep. Variable:</th>           <td>sc</td>        <th>  R-squared:         </th> <td>   0.292</td>\n",
       "</tr>\n",
       "<tr>\n",
       "  <th>Model:</th>                   <td>OLS</td>       <th>  Adj. R-squared:    </th> <td>   0.291</td>\n",
       "</tr>\n",
       "<tr>\n",
       "  <th>Method:</th>             <td>Least Squares</td>  <th>  F-statistic:       </th> <td>   428.9</td>\n",
       "</tr>\n",
       "<tr>\n",
       "  <th>Date:</th>             <td>Tue, 02 May 2017</td> <th>  Prob (F-statistic):</th>  <td>  0.00</td> \n",
       "</tr>\n",
       "<tr>\n",
       "  <th>Time:</th>                 <td>15:27:14</td>     <th>  Log-Likelihood:    </th> <td> -3659.7</td>\n",
       "</tr>\n",
       "<tr>\n",
       "  <th>No. Observations:</th>      <td> 10423</td>      <th>  AIC:               </th> <td>   7341.</td>\n",
       "</tr>\n",
       "<tr>\n",
       "  <th>Df Residuals:</th>          <td> 10412</td>      <th>  BIC:               </th> <td>   7421.</td>\n",
       "</tr>\n",
       "<tr>\n",
       "  <th>Df Model:</th>              <td>    10</td>      <th>                     </th>     <td> </td>   \n",
       "</tr>\n",
       "<tr>\n",
       "  <th>Covariance Type:</th>      <td>nonrobust</td>    <th>                     </th>     <td> </td>   \n",
       "</tr>\n",
       "</table>\n",
       "<table class=\"simpletable\">\n",
       "<tr>\n",
       "                <td></td>                  <th>coef</th>     <th>std err</th>      <th>t</th>      <th>P>|t|</th> <th>[95.0% Conf. Int.]</th> \n",
       "</tr>\n",
       "<tr>\n",
       "  <th>Intercept</th>                    <td>    1.4739</td> <td>    0.024</td> <td>   61.795</td> <td> 0.000</td> <td>    1.427     1.521</td>\n",
       "</tr>\n",
       "<tr>\n",
       "  <th>progresa[T.basal]</th>            <td>    0.0249</td> <td>    0.009</td> <td>    2.692</td> <td> 0.007</td> <td>    0.007     0.043</td>\n",
       "</tr>\n",
       "<tr>\n",
       "  <th>yearBinary</th>                   <td>    0.0387</td> <td>    0.011</td> <td>    3.600</td> <td> 0.000</td> <td>    0.018     0.060</td>\n",
       "</tr>\n",
       "<tr>\n",
       "  <th>progresa[T.basal]:yearBinary</th> <td>   -0.0027</td> <td>    0.014</td> <td>   -0.194</td> <td> 0.846</td> <td>   -0.030     0.024</td>\n",
       "</tr>\n",
       "<tr>\n",
       "  <th>sex</th>                          <td>    0.0310</td> <td>    0.007</td> <td>    4.595</td> <td> 0.000</td> <td>    0.018     0.044</td>\n",
       "</tr>\n",
       "<tr>\n",
       "  <th>dist_sec</th>                     <td>   -0.0154</td> <td>    0.002</td> <td>   -8.730</td> <td> 0.000</td> <td>   -0.019    -0.012</td>\n",
       "</tr>\n",
       "<tr>\n",
       "  <th>min_dist</th>                     <td>-7.307e-05</td> <td>    0.000</td> <td>   -0.632</td> <td> 0.527</td> <td>   -0.000     0.000</td>\n",
       "</tr>\n",
       "<tr>\n",
       "  <th>dist_cap</th>                     <td>    0.0006</td> <td> 7.47e-05</td> <td>    8.638</td> <td> 0.000</td> <td>    0.000     0.001</td>\n",
       "</tr>\n",
       "<tr>\n",
       "  <th>hohedu</th>                       <td>    0.0091</td> <td>    0.001</td> <td>    7.645</td> <td> 0.000</td> <td>    0.007     0.011</td>\n",
       "</tr>\n",
       "<tr>\n",
       "  <th>age</th>                          <td>   -0.0685</td> <td>    0.001</td> <td>  -60.095</td> <td> 0.000</td> <td>   -0.071    -0.066</td>\n",
       "</tr>\n",
       "<tr>\n",
       "  <th>hohage</th>                       <td> 6.824e-05</td> <td>    0.000</td> <td>    0.203</td> <td> 0.839</td> <td>   -0.001     0.001</td>\n",
       "</tr>\n",
       "</table>\n",
       "<table class=\"simpletable\">\n",
       "<tr>\n",
       "  <th>Omnibus:</th>       <td>845.143</td> <th>  Durbin-Watson:     </th> <td>   1.504</td> \n",
       "</tr>\n",
       "<tr>\n",
       "  <th>Prob(Omnibus):</th> <td> 0.000</td>  <th>  Jarque-Bera (JB):  </th> <td> 802.020</td> \n",
       "</tr>\n",
       "<tr>\n",
       "  <th>Skew:</th>          <td>-0.618</td>  <th>  Prob(JB):          </th> <td>6.98e-175</td>\n",
       "</tr>\n",
       "<tr>\n",
       "  <th>Kurtosis:</th>      <td> 2.437</td>  <th>  Cond. No.          </th> <td>1.27e+03</td> \n",
       "</tr>\n",
       "</table>"
      ],
      "text/plain": [
       "<class 'statsmodels.iolib.summary.Summary'>\n",
       "\"\"\"\n",
       "                            OLS Regression Results                            \n",
       "==============================================================================\n",
       "Dep. Variable:                     sc   R-squared:                       0.292\n",
       "Model:                            OLS   Adj. R-squared:                  0.291\n",
       "Method:                 Least Squares   F-statistic:                     428.9\n",
       "Date:                Tue, 02 May 2017   Prob (F-statistic):               0.00\n",
       "Time:                        15:27:14   Log-Likelihood:                -3659.7\n",
       "No. Observations:               10423   AIC:                             7341.\n",
       "Df Residuals:                   10412   BIC:                             7421.\n",
       "Df Model:                          10                                         \n",
       "Covariance Type:            nonrobust                                         \n",
       "================================================================================================\n",
       "                                   coef    std err          t      P>|t|      [95.0% Conf. Int.]\n",
       "------------------------------------------------------------------------------------------------\n",
       "Intercept                        1.4739      0.024     61.795      0.000         1.427     1.521\n",
       "progresa[T.basal]                0.0249      0.009      2.692      0.007         0.007     0.043\n",
       "yearBinary                       0.0387      0.011      3.600      0.000         0.018     0.060\n",
       "progresa[T.basal]:yearBinary    -0.0027      0.014     -0.194      0.846        -0.030     0.024\n",
       "sex                              0.0310      0.007      4.595      0.000         0.018     0.044\n",
       "dist_sec                        -0.0154      0.002     -8.730      0.000        -0.019    -0.012\n",
       "min_dist                     -7.307e-05      0.000     -0.632      0.527        -0.000     0.000\n",
       "dist_cap                         0.0006   7.47e-05      8.638      0.000         0.000     0.001\n",
       "hohedu                           0.0091      0.001      7.645      0.000         0.007     0.011\n",
       "age                             -0.0685      0.001    -60.095      0.000        -0.071    -0.066\n",
       "hohage                        6.824e-05      0.000      0.203      0.839        -0.001     0.001\n",
       "==============================================================================\n",
       "Omnibus:                      845.143   Durbin-Watson:                   1.504\n",
       "Prob(Omnibus):                  0.000   Jarque-Bera (JB):              802.020\n",
       "Skew:                          -0.618   Prob(JB):                    6.98e-175\n",
       "Kurtosis:                       2.437   Cond. No.                     1.27e+03\n",
       "==============================================================================\n",
       "\n",
       "Warnings:\n",
       "[1] Standard Errors assume that the covariance matrix of the errors is correctly specified.\n",
       "[2] The condition number is large, 1.27e+03. This might indicate that there are\n",
       "strong multicollinearity or other numerical problems.\n",
       "\"\"\""
      ]
     },
     "execution_count": 780,
     "metadata": {},
     "output_type": "execute_result"
    }
   ],
   "source": [
    "df_not_poor = df[df['poorBinary'] == 0]\n",
    "\n",
    "lm5 = ols(formula = 'sc ~ progresa + yearBinary + progresa*yearBinary + sex + dist_sec  + min_dist + dist_cap + hohedu + age + hohage', data=df_not_poor).fit()\n",
    "\n",
    "lm5.summary()"
   ]
  },
  {
   "cell_type": "markdown",
   "metadata": {},
   "source": [
    "A: Progresa would have helped provide publicity in the neighborhood by word of mouth or government advertising which have encouraged non-poor households to enroll their children as well.\n",
    "B: There is an average increase in enrollment in 1998 0.0387 which shows that there was an impact.\n",
    "C: The assumption being used here is that, there were no other factors impacting non-poor households to enroll their children apart from the Progresa program."
   ]
  },
  {
   "cell_type": "markdown",
   "metadata": {
    "ein.tags": [
     "worksheet-0"
    ],
    "slideshow": {
     "slide_type": "-"
    }
   },
   "source": [
    "### 2.8 Summary\n",
    "\n",
    "Based on all the analysis you have undertaken to date, do you thik that Progresa had a causal impact on the enrollment rates of poor households in Mexico?"
   ]
  },
  {
   "cell_type": "markdown",
   "metadata": {
    "autoscroll": "json-false",
    "collapsed": false,
    "ein.tags": [
     "worksheet-0"
    ],
    "slideshow": {
     "slide_type": "-"
    }
   },
   "source": [
    "Yes, Progresa had an impact on the enrollment rates of the poor households in Mexico, although it is not very high. Since it is a randomized trial, we can say that there was a causal impact. However, we cannot prove the counterfactual assumption that the average enrollment rate would have been the same in treatment & control groups in the absense of the treatment.\n",
    "\n",
    "As in every causal study, we need to consider 3 possible reasons that might have impacted the outcome of the study. Only when you rule out the other possible reasons, you can guarantee that there was a definite impact of the treatment on the group.\n",
    "\n",
    "Also, since this is a study which can go on for a long period of time, analysing long term outcomes can be more impactful instead of just guaging the impact for a period of one year.\n",
    "\n",
    "Overall, since Progresa showed a small increase in average enrollment in just 1 year, this could be a good investment by the government & can be used as a model to start other subsidy programs as well."
   ]
  }
 ],
 "metadata": {
  "kernelspec": {
   "display_name": "Python 3",
   "language": "python",
   "name": "python3"
  },
  "language_info": {
   "codemirror_mode": {
    "name": "ipython",
    "version": 3
   },
   "file_extension": ".py",
   "mimetype": "text/x-python",
   "name": "python",
   "nbconvert_exporter": "python",
   "pygments_lexer": "ipython3",
   "version": "3.6.0"
  },
  "name": "ps2.ipynb"
 },
 "nbformat": 4,
 "nbformat_minor": 2
}
